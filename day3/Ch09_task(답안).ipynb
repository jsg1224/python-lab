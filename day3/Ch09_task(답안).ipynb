{
 "cells": [
  {
   "cell_type": "markdown",
   "metadata": {},
   "source": [
    "<span style=\"font-size:100%\">\n",
    "\n",
    "수업은 모두 열심히 들으셨나요?\n",
    "\n",
    "간혹 강의에서 언급되지 않은 내용이 문제로 나올 수 있습니다.<br>\n",
    "그럴땐 강의 내용 외 문제는 구글링을 통해 해결해주세요<br></span>\n",
    "<span style=\"font-size:80%\">\n",
    "(구글링 또한 개발자가 갖쳐야할 역량 중에 하나랍니다 😊)\n",
    "</span>\n",
    "\n",
    "---"
   ]
  },
  {
   "cell_type": "markdown",
   "metadata": {},
   "source": [
    "### Chapter09 : `Python의 입력과 출력 방식에 대해 알아보고 문제를 해결해보자`"
   ]
  },
  {
   "cell_type": "markdown",
   "metadata": {},
   "source": [
    "<span style=\"font-size:80%\">[문제1]<br><br></span>\n",
    "아래 코드의 실행 결과로 올바른 것을 골라주세요<br>\n",
    "\n",
    "print(' * ', ' * ', ' * ', ' * ', ' * ', ' * ', sep='x')\n",
    "\n",
    "```\n",
    "1. x*x*x*x*x*x*\n",
    "2. ******\n",
    "3. ***x***\n",
    "4. *x*x*x*x*x*\n",
    "```"
   ]
  },
  {
   "cell_type": "markdown",
   "metadata": {},
   "source": [
    "<span style=\"color:red\">답변</span>"
   ]
  },
  {
   "cell_type": "markdown",
   "metadata": {},
   "source": [
    "<aside>\n",
    "🔑 정답 : *x*x*x*x*x*\n",
    "\n",
    "print 함수의 sep` 매개변수는 출력할 아이템들 사이에 삽입될 문자열을 지정합니다. \n",
    "\n",
    "기본값은 공백(' ')입니다.\n",
    "\n",
    "위 코드에서는 `sep` 매개변수를 'x'로 설정하였으므로, ' * ' 문자 사이에 'x'가 삽입되어 출력됩니다. 따라서 ' * '와 ' * ' 사이에는 'x'가 있음을 확인할 수 있습니다.\n",
    "\n",
    "주의할 점은 `sep` 매개변수는 아이템 사이에만 적용되며, 아이템 앞이나 뒤에는 적용되지 않는다는 점입니다. \n",
    "따라서 출력 결과의 앞뒤에 'x'가 없습니다.\n",
    "\n",
    "</aside>"
   ]
  },
  {
   "cell_type": "markdown",
   "metadata": {},
   "source": [
    "----"
   ]
  },
  {
   "cell_type": "markdown",
   "metadata": {},
   "source": [
    "<span style=\"font-size:80%\">[문제2]<br><br></span>\n",
    "두 개의 값을 입력 받아 실수로 x와 y 변수에 저장하는 코드를 골라 주세요\n",
    "\n",
    "\n",
    "1. x, y = input('실수를 입력하세요: ')\n",
    "2. x, y = input('실수를 입력하세요: ').split()\n",
    "3. x = input('실수를 입력하세요'); y = input('실수를 입력하세요')\n",
    "4. x, y = map(float, input('실수를 입력하세요: ').split())"
   ]
  },
  {
   "cell_type": "markdown",
   "metadata": {},
   "source": [
    "<span style=\"color:red\">답변</span>"
   ]
  },
  {
   "cell_type": "markdown",
   "metadata": {},
   "source": [
    "<aside>\n",
    "🔑 정답 : x, y = map(float, input('실수를 입력하세요: ').split())\n",
    "<br>\n",
    "\n",
    "1. `input('실수를 입력하세요: ')`: 사용자로부터 입력을 받습니다. '실수를 입력하세요: '라는 프롬프트 문구를 화면에 출력하고, 사용자가 키보드로 입력한 내용을 문자열로 반환합니다.\n",
    "\n",
    "2. `.split()`: `input()` 함수로부터 받은 문자열을 공백을 기준으로 분리하여 리스트로 만듭니다. \n",
    "예를 들어 사용자가 '3 2'을 입력하면 `split()` 메서드는 ['3', '2']이라는 리스트를 생성합니다.\n",
    "\n",
    "3. `map(float, ...)`: `map()` 함수는 첫 번째 인자로 주어진 함수를 두 번째 인자로 주어진 각 요소에 적용하여 결과를 반환합니다. \n",
    "여기서는 `float()` 함수가 `split()` 메서드로부터 생성된 리스트의 각 요소, 즉 '3'와 '2'에 적용되어 각각을 실수로 변환합니다. 따라서 `map()` 함수의 결과는 실수 두 개를 원소로 가진 리스트입니다.\n",
    "\n",
    "4. `x, y = ...`: `map()` 함수의 결과를 `x`와 `y` 변수에 각각 할당합니다. 파이썬에서는 이러한 방식으로 여러 개의 변수에 한 번에 값을 할당할 수 있습니다.\n",
    "</aside>"
   ]
  },
  {
   "cell_type": "markdown",
   "metadata": {},
   "source": [
    "----"
   ]
  },
  {
   "cell_type": "markdown",
   "metadata": {},
   "source": [
    "<span style=\"font-size:80%\">[문제3]<br><br></span>\n",
    "\n",
    "아래와 같이 주어졌을때 실행 결과와 동일하게 출력되기 위해 1)과 2) 들어갈 코드를 작성해주세요\n",
    "\n",
    "```\n",
    "month = 12\n",
    "day = 25\n",
    "hour = 12\n",
    "minute = 30\n",
    "\n",
    "print(month, day, 1)________)\n",
    "print(hour, minute, 2)_______)\n",
    "\n",
    "```\n",
    "\n",
    "실행 결과 : 1) 12.25,   2) 12:30"
   ]
  },
  {
   "cell_type": "markdown",
   "metadata": {},
   "source": [
    "<span style=\"color:red\">답변</span>"
   ]
  },
  {
   "cell_type": "markdown",
   "metadata": {},
   "source": [
    "<aside>\n",
    "🔑 정답 : 1 : sep='.', end=' ‘   \n",
    "          2: sep=':’\n",
    "\n",
    "<br>\n",
    "\n",
    "1. `print(month, day, sep='.', end=' ')`: `month`와 `day` 변수의 값을 '.'으로 구분하여 출력하고, 출력의 끝에는 공백(' ')을 추가합니다. `sep` 파라미터는 출력할 아이템들 사이에 삽입될 문자열을 지정하는데 사용되고, `end` 파라미터는 출력의 끝에 추가될 문자열을 지정하는데 사용됩니다.\n",
    "\n",
    "\n",
    "2. `print(hour, minute, sep=':')`: `hour`와 `minute` 변수의 값을 ':'으로 구분하여 출력합니다. 이 경우, `end` 파라미터를 지정하지 않았으므로 기본값인 개행 문자('\\n')가 사용되어 출력 후에 새로운 줄로 이동합니다.\n",
    "예를 들어, `month`, `day`, `hour`, `minute` 변수의 값이 각각 1, 21, 12, 30이라면, 이 코드는 '1.21 12:30'을 출력합니다\n",
    "</aside>"
   ]
  },
  {
   "cell_type": "markdown",
   "metadata": {},
   "source": [
    "----"
   ]
  },
  {
   "cell_type": "markdown",
   "metadata": {},
   "source": [
    "### Chapter10 : `Python의 시퀀스 자료형 중 하나인 list에 대해 알아보고 문제를 해결해보자`"
   ]
  },
  {
   "cell_type": "markdown",
   "metadata": {},
   "source": [
    "<span style=\"font-size:80%\">[문제1]<br><br></span>\n",
    "아래 리스트에 들어있는 값의 평균을 구하는 코드를 작성해주세요\n",
    "\n",
    "x = [34, 22, 10, 3, 55, 66]"
   ]
  },
  {
   "cell_type": "markdown",
   "metadata": {},
   "source": [
    "<span style=\"color:red\">답변</span>"
   ]
  },
  {
   "cell_type": "markdown",
   "metadata": {},
   "source": [
    "<aside>\n",
    "🔑\n",
    "\n",
    "```python\n",
    "x = [34, 22, 10, 3, 55, 66]\n",
    "\n",
    "# 리스트의 합을 구하고, 리스트의 길이로 나눠 평균을 구합니다.\n",
    "average = sum(x) / len(x)\n",
    "\n",
    "print(\"평균: \", average)\n",
    "```\n",
    "\n",
    "1. **`sum(x)`: `sum()` 함수는 리스트 `x`의 모든 요소의 합을 반환합니다.**\n",
    "2. **`len(x)`: `len()` 함수는 리스트 `x`의 길이(요소의 개수)를 반환합니다.**\n",
    "3. **`sum(x) / len(x)`: 리스트의 모든 요소의 합을 요소의 개수로 나누어 평균을 구합니다. 이 값은 `average` 변수에 저장됩니다.**\n",
    "4. **`print(\"평균: \", average)`: 계산된 평균 값을 출력합니다.**\n",
    "</aside>"
   ]
  },
  {
   "cell_type": "markdown",
   "metadata": {},
   "source": [
    "----"
   ]
  },
  {
   "cell_type": "markdown",
   "metadata": {},
   "source": [
    "<span style=\"font-size:80%\">[문제2]<br><br></span>\n",
    "리스트 안에 있는 데이터를 오름차순으로 정렬하는 메소드를 모두 골라주세요\n",
    "\n",
    "1. upper()\n",
    "2. low()\n",
    "3. sort()\n",
    "4. hight()\n",
    "5. sorted()"
   ]
  },
  {
   "cell_type": "markdown",
   "metadata": {},
   "source": [
    "<span style=\"color:red\">답변</span>"
   ]
  },
  {
   "cell_type": "markdown",
   "metadata": {},
   "source": [
    "<aside>\n",
    "🔑 정답 : sort, sorted\n",
    "\n",
    "<br>\n",
    "\n",
    "파이썬에서 리스트의 데이터를 오름차순으로 정렬하는 데 사용할 수 있는 두 가지 메소드가 있습니다: `sort()`와 `sorted()`입니다.\n",
    "\n",
    "1. `sort()` 메소드: 이 메소드는 리스트 자체를 정렬합니다. 즉, 원본 리스트의 순서를 변경합니다.\n",
    "    \n",
    "    ```python\n",
    "    x = [34, 22, 10, 3, 55, 66]\n",
    "    x.sort()\n",
    "    print(x)  # 출력: [3, 10, 22, 34, 55, 66]\n",
    "    ```\n",
    "    \n",
    "2. `sorted()` 함수: 이 함수는 정렬된 새로운 리스트를 반환하며, 원본 리스트는 변경하지 않습니다.\n",
    "    \n",
    "    ```python\n",
    "    x = [34, 22, 10, 3, 55, 66]\n",
    "    y = sorted(x)\n",
    "    print(y)  # 출력: [3, 10, 22, 34, 55, 66]\n",
    "    print(x)  # 출력: [34, 22, 10, 3, 55, 66], 원본 리스트는 그대로 유지됩니다.\n",
    "    ```\n",
    "    \n",
    "\n",
    "이 두 메소드는 기본적으로 오름차순으로 정렬합니다. \n",
    "\n",
    "만약 내림차순으로 정렬하고 싶다면, `sort()`나 `sorted()`를 호출할 때 `reverse=True`를 인자로 전달하면 됩니다.\n",
    "예 ) sort(reverse=True), sorted(reverse=True)\n",
    "\n",
    "</aside>"
   ]
  },
  {
   "cell_type": "markdown",
   "metadata": {},
   "source": [
    "----"
   ]
  },
  {
   "cell_type": "markdown",
   "metadata": {},
   "source": [
    "<span style=\"font-size:80%\">[문제3]<br><br></span>\n",
    "리스트 x가 있을 때 x.append(7)과 결과가 동일한 것을 모두 골라주세요\n",
    "\n",
    "\n",
    "1. x[-1:] = [7]\n",
    "2. x.insert(len(x), 7)\n",
    "3. x[0:] = 7\n",
    "4. x[len(x):] = 7\n",
    "5. x[len(x):] = [7]"
   ]
  },
  {
   "cell_type": "markdown",
   "metadata": {},
   "source": [
    "<span style=\"color:red\">답변</span>"
   ]
  },
  {
   "cell_type": "markdown",
   "metadata": {},
   "source": [
    "<aside>\n",
    "🔑 정답 : x.insert(len(x), 40), x[len(x):] = [40]\n",
    "\n",
    "<br>\n",
    "\n",
    "1. `insert()` 메소드를 사용하는 방법\n",
    "    \n",
    "    ```python\n",
    "    x.insert(len(x), 7)\n",
    "    ```\n",
    "    \n",
    "    `insert()` 메소드는 지정한 인덱스 위치에 요소를 삽입합니다. `len(x)`는 리스트 `x`의 길이를 반환하므로, 이는 리스트의 마지막 위치를 의미합니다. 따라서 이 코드는 리스트 `x`의 마지막에 `7`을 추가합니다.\n",
    "    \n",
    "\n",
    "1. `len()` 함수와 `=` 연산자를 사용하는 방법\n",
    "    \n",
    "    ```python\n",
    "    x[len(x):] = [7]\n",
    "    ```\n",
    "    \n",
    "    이 코드는 리스트 `x`의 마지막 부분에 `[7]`이라는 리스트를 슬라이싱을 통해 연결합니다. \n",
    "    \n",
    "    이 방법도 리스트 `x`의 마지막에 `7`을 추가하는 결과를 나타냅니다.\n",
    "    따라서 이 두 가지 방법도 `append(7)`과 동일하게 리스트 `x`의 끝에 `7`을 추가합니다.\n",
    "    \n",
    "\n",
    "그 외 방법으로는 `extend()` 메소드를 사용하는 방법과 `+=` 연산자를 사용하는 방법이 있습니다.\n",
    "\n",
    "1. `extend()` 메소드를 사용하는 방법\n",
    "    \n",
    "    ```python\n",
    "    x.extend([7])\n",
    "    ```\n",
    "    \n",
    "    `extend()` 메소드는 리스트의 끝에 다른 리스트의 모든 요소를 추가합니다. 여기서는 `[7]`이라는 하나의 요소만을 가진 리스트를 추가하므로 `append(7)`과 동일한 결과를 얻을 수 있습니다.\n",
    "    \n",
    "2. `+=` 연산자를 사용하는 방법\n",
    "    \n",
    "    ```python\n",
    "    x += [7]\n",
    "    ```\n",
    "    \n",
    "    `+=` 연산자는 리스트의 끝에 다른 리스트를 연결합니다. `[7]`이라는 리스트를 `x`에 연결하므로 `append(7)`과 동일한 결과를 얻을 수 있습니다.\n",
    "    \n",
    "</aside>"
   ]
  },
  {
   "cell_type": "markdown",
   "metadata": {},
   "source": [
    "----"
   ]
  },
  {
   "cell_type": "markdown",
   "metadata": {},
   "source": [
    "<span style=\"font-size:80%\">[문제4]<br><br></span>\n",
    "리스트의 모든 요소를 삭제하는 메서드를 골라주세요\n",
    "\n",
    "1. remove\n",
    "2. clean\n",
    "3. pop\n",
    "4. clear\n",
    "5. reverse"
   ]
  },
  {
   "cell_type": "markdown",
   "metadata": {},
   "source": [
    "<span style=\"color:red\">답변</span>"
   ]
  },
  {
   "cell_type": "markdown",
   "metadata": {},
   "source": [
    "<aside>\n",
    "🔑 정답 : clear()\n",
    "\n",
    "<br>\n",
    "\n",
    "`clear()` 메서드: 이 메서드는 리스트의 모든 요소를 삭제합니다.\n",
    "\n",
    "</aside>"
   ]
  },
  {
   "cell_type": "markdown",
   "metadata": {},
   "source": [
    "----"
   ]
  },
  {
   "cell_type": "markdown",
   "metadata": {},
   "source": [
    "<span style=\"font-size:80%\">[문제5]<br><br></span>\n",
    "[3.1, 6.7, 4.4]가 들어있는 리스트의 값을 문자열로 변환 후 다시 리스트로 만들어 변수 x에 담는 코드를 골라주세요\n",
    "\n",
    "1. x = list(str, [3.1, 6.7, 4.4])\n",
    "2. x = map(str, [3.1, 6.7, 4.4])\n",
    "3. x = str([3.1, 6.7, 4.4])\n",
    "4. x = list(map(str, [3.1, 6.7, 4.4]))\n",
    "5. x = map(int, [3.1, 6.7, 4.4])"
   ]
  },
  {
   "cell_type": "markdown",
   "metadata": {},
   "source": [
    "<span style=\"color:red\">답변</span>"
   ]
  },
  {
   "cell_type": "markdown",
   "metadata": {},
   "source": [
    "<aside>\n",
    "🔑 정답 : x = list(map(str, [3.1, 6.7, 4.4]))\n",
    "\n",
    "<br>\n",
    "\n",
    "`map()` 함수는 첫 번째 인자로 주어진 함수를 두 번째 인자로 주어진 각 요소에 적용하여 결과를 반환합니다. \n",
    "\n",
    "여기서는 `str()` 함수가 `numbers` 리스트의 각 요소에 적용되어 각 요소를 문자열로 변환합니다.\n",
    "\n",
    "`map()` 함수의 결과는 map 객체이므로, `list()` 함수를 사용하여 리스트로 변환합니다. 이렇게 생성된 리스트를 `x` 변수에 저장합니다.\n",
    "\n",
    "따라서 이 코드는 `numbers` 리스트의 각 요소를 문자열로 변환하고, 이를 `x`라는 새로운 리스트에 저장하는 역할을 합니다.\n",
    "\n",
    "</aside>"
   ]
  },
  {
   "cell_type": "markdown",
   "metadata": {},
   "source": [
    "### Chapter11 : `Python의 시퀀스 자료형 중 하나인 tuple에 대해 알아보고 문제를 해결해보자`"
   ]
  },
  {
   "cell_type": "markdown",
   "metadata": {},
   "source": [
    "<span style=\"font-size:80%\">[문제1]<br><br></span>\n",
    "tuple과 list의 차이점으로 올바른 것을 모두 골라주세요\n",
    "\n",
    "1. list만 인덱싱이 가능해 원하는 값을 인덱스로 추출할 수 있다.\n",
    "2. tuple은 불변이고 list는 가변이다.\n",
    "3. tuple은 소괄호( () )를 사용하고 리스트는 대괄호( [ ] )를 사용한다.\n",
    "4. 튜플은 입출력이 자주 발행하는 경우 사용하고 리스트는 입출력이 자주 발생하지 않는 상황에 사용한다"
   ]
  },
  {
   "cell_type": "markdown",
   "metadata": {},
   "source": [
    "<span style=\"color:red\">답변</span>"
   ]
  },
  {
   "cell_type": "markdown",
   "metadata": {},
   "source": [
    "<aside>\n",
    "🔑 정답 : tuple은 불변이고 list는 가변이다.  / tuple은 소괄호( () )를 사용하고 리스트는 대괄호( [ ] )를 사용한다.\n",
    "\n",
    "<br>\n",
    "\n",
    "리스트(list)와 튜플(tuple)은 파이썬에서 가장 자주 사용되는 시퀀스 데이터 타입입니다. \n",
    "둘 다 여러 요소를 포함할 수 있지만, 주요 차이점은 다음과 같습니다.\n",
    "\n",
    "1. 가변성(Mutability): 리스트는 가변적(mutable)입니다. \n",
    "즉, 리스트의 요소를 변경하거나, 추가하거나, 제거할 수 있습니다. \n",
    "\n",
    "반면에 튜플은 불변(immutable)입니다. \n",
    "한 번 생성된 튜플의 요소를 변경하거나 추가하거나 제거할 수 없습니다.    \n",
    "```python\n",
    "    # 리스트\n",
    "    my_list = [1, 2, 3]\n",
    "    my_list[0] = 'a'  # 가능\n",
    "    print(my_list)  # 출력: ['a', 2, 3]\n",
    "\n",
    "    # 튜플\n",
    "    my_tuple = (1, 2, 3)\n",
    "    my_tuple[0] = 'a'  # 불가능, 에러 발생\n",
    "```\n",
    "    \n",
    "    \n",
    "2. 구문(Syntax): 리스트는 대괄호([])를 사용하여 정의하고, 튜플은 소괄호(())를 사용하여 정의합니다. 하지만 튜플은 요소가 한 개일 때에는 요소 뒤에 쉼표(,)를 붙여야 합니다.\n",
    "    \n",
    "    ```python\n",
    "    # 리스트\n",
    "    my_list = [1, 2, 3]\n",
    "    \n",
    "    # 튜플\n",
    "    my_tuple = (1, 2, 3)\n",
    "    my_single_tuple = (1,)  # 요소가 하나일 때는 쉼표 필요\n",
    "    ```\n",
    "    \n",
    "3. 사용 경우: 리스트는 요소의 추가, 삭제, 변경이 자주 일어나는 경우에 주로 사용되고, 튜플은 요소가 변경되지 않아야 하는 경우에 주로 사용됩니다. 예를 들어, 튜플은 딕셔너리의 키로 사용될 수 있지만 리스트는 사용될 수 없습니다.\n",
    "\n",
    "이런 차이점들 때문에, 리스트와 튜플은 서로 다른 용도로 사용됩니다. 변경 가능성, 구문, 사용 사례 등을 고려하여 적절한 타입을 선택하는 것이 중요합니다.\n",
    "\n",
    "</aside>"
   ]
  },
  {
   "cell_type": "markdown",
   "metadata": {},
   "source": [
    "----"
   ]
  },
  {
   "cell_type": "markdown",
   "metadata": {},
   "source": [
    "<span style=\"font-size:80%\">[문제2]<br><br></span>\n",
    "tuple a에 사용할 수 없는 코드를 골라주세요<br>\n",
    "a = (20, 10, 15)\n",
    "\n",
    "1. print(a[:])\n",
    "2. a.pop()\n",
    "3. sum(a)\n",
    "4. a.count(20)"
   ]
  },
  {
   "cell_type": "markdown",
   "metadata": {},
   "source": [
    "<span style=\"color:red\">답변</span>"
   ]
  },
  {
   "cell_type": "markdown",
   "metadata": {},
   "source": [
    "<aside>\n",
    "🔑 정답 : a.pop( )\n",
    "\n",
    "<br>\n",
    "\n",
    "`a = (20, 10, 15)`에서 `a`는 튜플입니다. 튜플은 불변(immutable) 데이터 타입으로, 한 번 생성된 튜플의 요소를 변경하거나 추가하거나 제거할 수 없습니다.\n",
    "\n",
    "`pop()` 메서드는 리스트에서 주로 사용되는 메서드로, 리스트의 마지막 요소를 제거하고 그 요소를 반환합니다. \n",
    "이는 리스트가 가변(mutable) 데이터 타입이기 때문에 가능합니다.\n",
    "\n",
    "따라서 튜플인 `a`에 `pop()` 메서드를 사용하려고 하면, '튜플 객체에는 'pop' 속성이 없다'는 TypeError가 발생합니다. \n",
    "튜플의 요소를 제거하거나 변경하려면, 튜플을 리스트로 형변환 후 작업을 수행하고 다시 튜플로 변환해야 합니다.\n",
    "\n",
    "</aside>"
   ]
  },
  {
   "cell_type": "markdown",
   "metadata": {},
   "source": [
    "----"
   ]
  },
  {
   "cell_type": "markdown",
   "metadata": {},
   "source": [
    "<span style=\"font-size:80%\">[문제3]<br><br></span>\n",
    "아래 코드를 실행시켰을 때 발생하는 상황과 원인을 간략히 설명해주세요\n",
    "\n",
    "```\n",
    "바구니 = ( \"상추\", \"깻잎\", \"삼겹살\")\n",
    "바구니[1] = \"고사리\"\n",
    "```"
   ]
  },
  {
   "cell_type": "markdown",
   "metadata": {},
   "source": [
    "<span style=\"color:red\">답변</span>"
   ]
  },
  {
   "cell_type": "markdown",
   "metadata": {},
   "source": [
    "<aside>\n",
    "🔑 정답 :\n",
    "\n",
    "위 코드를 실행하면 TypeError가 발생합니다. \n",
    "오류 메시지는 \"튜플 객체는 항목 할당을 지원하지 않습니다\"라는 내용입니다.\n",
    "\n",
    "이유는 `바구니`가 튜플(tuple)이기 때문입니다. 튜플은 불변(immutable)한 자료형으로, 한 번 생성된 튜플의 요소는 변경할 수 없습니다. \n",
    "\n",
    "따라서 `바구니[1] = \"고사리\"`와 같이 튜플의 요소를 변경하려고 하면 오류가 발생합니다.\n",
    "\n",
    "만약 튜플의 요소를 변경하고 싶다면, 튜플을 리스트로 변환한 후 변경하고 다시 튜플로 변환할 수 있습니다. \n",
    "문제 해결을 위해 아래와 같이 코드를 작성할 수 있습니다.\n",
    "\n",
    "```python\n",
    "바구니 = ( \"상추\", \"깻잎\", \"삼겹살\")\n",
    "바구니 = list(바구니)\n",
    "바구니[1] = \"고사리\"\n",
    "바구니 = tuple(바구니)\n",
    "```\n",
    "\n",
    "</aside>"
   ]
  },
  {
   "cell_type": "markdown",
   "metadata": {},
   "source": [
    "### Chapter12 : `Python의 시퀀스 자료형 중 하나인 dict에 대해 알아보고 문제를 해결해보자`"
   ]
  },
  {
   "cell_type": "markdown",
   "metadata": {},
   "source": [
    "<span style=\"font-size:80%\">[문제1]<br><br></span>\n",
    "딕셔너리 x에서 키에 해당하는 값을 모두 삭제하는 방법으로 옳은 것을 모두 골라주세요\n",
    "\n",
    "x = {'banana':3000, 'apple':1500, 'orange':2000}\n",
    "\n",
    "1. x.pop('apple')\n",
    "2. x.remove('python')\n",
    "3. del x['orange']\n",
    "4. x.popitem()"
   ]
  },
  {
   "cell_type": "markdown",
   "metadata": {},
   "source": [
    "<span style=\"color:red\">답변</span>"
   ]
  },
  {
   "cell_type": "markdown",
   "metadata": {},
   "source": [
    "<aside>\n",
    "🔑 정답 : x.pop('apple')  / del x['orange']\n",
    "\n",
    "파이썬의 딕셔너리에서 특정 키(key)와 그에 해당하는 값(value)을 삭제하려면 `del` 키워드나 `pop()` 메서드를 사용할 수 있습니다.\n",
    "\n",
    "예를 들어, 다음과 같은 딕셔너리가 있다고 가정해 봅시다.\n",
    "\n",
    "```python\n",
    "x = {'banana':'3000원', 'apple':'1500원', 'orange':'2000원'}\n",
    "```\n",
    "\n",
    "`del` 키워드를 사용하여 'orange’ 키와 그 값 ‘2000원’을 삭제하려면 다음과 같이 작성합니다.\n",
    "\n",
    "```python\n",
    "del x['orange']\n",
    "```\n",
    "\n",
    "`pop()` 메서드를 사용하여 'apple' 키와 그 값 ‘1500원’를 삭제하려면 다음과 같이 작성합니다.\n",
    "\n",
    "```python\n",
    "x.pop('apple')\n",
    "```\n",
    "\n",
    "이렇게 하면 각각 ‘orange’와 'apple' 키와 그에 해당하는 값이 딕셔너리에서 삭제됩니다. \n",
    "이때 `pop()` 메서드는 삭제된 값(value)를 반환합니다.\n",
    "\n",
    "만약 삭제하려는 키가 딕셔너리에 없는 경우, `del` 키워드는 KeyError를 발생시키지만, `pop()` 메서드는 두 번째 인자로 기본값을 설정할 수 있어 KeyError를 방지할 수 있습니다.\n",
    "\n",
    "</aside>"
   ]
  },
  {
   "cell_type": "markdown",
   "metadata": {},
   "source": [
    "----"
   ]
  },
  {
   "cell_type": "markdown",
   "metadata": {},
   "source": [
    "<span style=\"font-size:80%\">[문제2]<br><br></span>\n",
    "딕셔너리의 메서드에 대한 설명으로 올바르지 않은 것을 모두 고르세요<br>\n",
    "\n",
    "1. setdefault는 키만 지정하면 값은 0으로 저장한다.\n",
    "2. update는 딕셔너리에서 키의 value 값을 수정한다.\n",
    "3. keys는 딕셔너리의 키-값 쌍을 모두 가져온다.\n",
    "4. clear는 딕셔너리의 모든 키-값 쌍을 삭제한다.\n",
    "5. setdefault에 키와 값을 넣어 실행하면 기존 딕셔너리에 없는 키값일 경우 키-값 쌍을 추가한다."
   ]
  },
  {
   "cell_type": "markdown",
   "metadata": {},
   "source": [
    "<span style=\"color:red\">답변</span>"
   ]
  },
  {
   "cell_type": "markdown",
   "metadata": {},
   "source": [
    "<aside>\n",
    "🔑 정답 : setdefault는 키만 지정하면 값은 0으로 저장한다. / keys는 딕셔너리의 키-값 쌍을 모두 가져온다.\n",
    "\n",
    "<br>\n",
    "\n",
    "- **`setdefault()`: 딕셔너리에서 주어진 키에 대한 값을 반환합니다. 만약 키가 딕셔너리에 없다면, 새로운 키와 기본 값을 딕셔너리에 추가합니다. \n",
    "예를 들어, `dict.setdefault('key', 'default')`는 'key'가 딕셔너리에 있으면 그에 해당하는 값을, 없다면 'default'를 반환합니다.**\n",
    "\n",
    "- **`update()`: 한 딕셔너리의 키-값 쌍을 다른 딕셔너리에 추가하거나, 이미 존재하는 키의 값을 업데이트하는 데 사용됩니다. \n",
    "예를 들어, `dict1.update(dict2)`는 `dict1`에 `dict2`의 모든 키-값 쌍을 추가하거나 업데이트합니다.**\n",
    "\n",
    "- **`keys()`: 딕셔너리의 모든 키를 반환합니다. 이때 반환되는 값은 딕셔너리의 키를 담은 특별한 객체이며, 이를 리스트로 변환하려면 `list(dict.keys())`와 같이 사용합니다.**\n",
    "\n",
    "- **`clear()`: 딕셔너리의 모든 항목을 삭제합니다. 딕셔너리를 빈 상태로 만드는 데 사용됩니다.**\n",
    "\n",
    "- **`setdefault()`: 주어진 키에 대한 값을 반환하거나, 키가 없는 경우 딕셔너리에 새로운 키와 기본 값을 추가합니다.**\n",
    "</aside>"
   ]
  },
  {
   "cell_type": "markdown",
   "metadata": {},
   "source": [
    "----"
   ]
  },
  {
   "cell_type": "markdown",
   "metadata": {},
   "source": [
    "<span style=\"font-size:80%\">[문제3]<br><br></span>\n",
    "평균 점수를 구하는 코드를 result 변수에 작성해주세요\n",
    "\n",
    "```\n",
    "ozkim = { \"국어\" : 90, \"'수학\" : 80, \"과학\" : 82, \"영어\" : 72 }\n",
    "result = \n",
    "print(result)\n",
    "```"
   ]
  },
  {
   "cell_type": "markdown",
   "metadata": {},
   "source": [
    "<span style=\"color:red\">답변</span>"
   ]
  },
  {
   "cell_type": "markdown",
   "metadata": {},
   "source": [
    "<aside>\n",
    "🔑 정답 : sum(ozkim.values()) / len(ozkim)\n",
    "\n",
    "<br>\n",
    "\n",
    "`sum()` 함수를 사용하여 딕셔너리의 모든 값을 합친 후, 딕셔너리의 길이(`len(ozkim)`)로 나눠 평균을 구합니다. 이렇게 하면 `ozkim` 딕셔너리에 들어있는 모든 점수의 평균을 얻을 수 있습니다.\n",
    "\n",
    "</aside>"
   ]
  },
  {
   "cell_type": "markdown",
   "metadata": {},
   "source": [
    "----"
   ]
  },
  {
   "cell_type": "markdown",
   "metadata": {},
   "source": [
    "<span style=\"font-size:80%\">[문제4]<br><br></span>\n",
    "상자 딕셔너리에 아래 데이터를 추가하는 코드를 작성해 주세요\n",
    "\n",
    "```\n",
    "상자 = {\"아디다스\": [\"신발\", \"2개\"], \n",
    "            \"나이키\": [\"모자\", \"5개\"], \n",
    "            \"뉴발란스\": [\"가방\", \"1개\"]}\n",
    "````\n",
    "\n",
    "입력할 데이터 : 칼하트 / 후드티 / 2벌"
   ]
  },
  {
   "cell_type": "markdown",
   "metadata": {},
   "source": [
    "<span style=\"color:red\">답변</span>"
   ]
  },
  {
   "cell_type": "markdown",
   "metadata": {},
   "source": [
    "<aside>\n",
    "🔑 정답 : 상자[’칼하트’] = [’후드티’, ‘2벌’]\n",
    "\n",
    "<br>\n",
    "\n",
    "딕셔너리에 key와 value를 추가하는 여러가지 방법이 있지만 위와 같은 방법으로 '칼하트'라는 key와 그에 해당하는 value ['후드티', '2벌']을 딕셔너리에 추가합니다.\n",
    "딕셔너리에 새로운 key-value 쌍을 추가하는 방법은 이렇게 간단하게 할 수 있습니다.\n",
    "\n",
    "</aside>"
   ]
  },
  {
   "cell_type": "markdown",
   "metadata": {},
   "source": [
    "----"
   ]
  },
  {
   "cell_type": "markdown",
   "metadata": {},
   "source": [
    "<span style=\"font-size:80%\">[문제5]<br><br></span>\n",
    "아래 keys 변수와 vals 변수에 들어있는 값을 이용해 agency_dict라는 딕셔너리를 만드는 코드를 작성해주세요 \n",
    "\n",
    "```\n",
    "keys = [\"뉴진스\", \"아이브\", \"에스파\"]\n",
    "vals = [\"하이브\" , \"스타쉽\", \"SM\"]\n",
    "```"
   ]
  },
  {
   "cell_type": "markdown",
   "metadata": {},
   "source": [
    "<span style=\"color:red\">답변</span>"
   ]
  },
  {
   "cell_type": "markdown",
   "metadata": {},
   "source": [
    "<aside>\n",
    "🔑 정답 :\n",
    "\n",
    "**방법 1.**\n",
    "\n",
    "```python\n",
    "keys = [\"뉴진스\", \"아이브\", \"에스파\"]\n",
    "vals = [\"하이브\" , \"스타쉽\", \"SM\"]\n",
    "\n",
    "# 두 리스트를 딕셔너리로 만듦\n",
    "agency_dict = dict(zip(keys, vals))\n",
    "\n",
    "print(agency_dict)\n",
    "```\n",
    "\n",
    "**이 코드에서 `zip()` 함수는 `keys`와 `vals` 리스트의 각 요소를 하나씩 짝지어 튜플로 만듭니다. 그리고 `dict()` 함수는 이 튜플들을 딕셔너리로 변환합니다. 결과적으로 `keys`의 각 요소가 딕셔너리의 키가 되고, `vals`의 각 요소가 딕셔너리의 값이 됩니다.**\n",
    "\n",
    "**방법 2.**\n",
    "\n",
    "```python\n",
    "keys = [\"뉴진스\", \"아이브\", \"에스파\"]\n",
    "vals = [\"하이브\" , \"스타쉽\", \"SM\"]\n",
    "\n",
    "# 빈 딕셔너리 생성\n",
    "agency_dict = {}\n",
    "\n",
    "# 리스트의 길이만큼 반복\n",
    "for i in range(len(keys)):\n",
    "    # 딕셔너리에 키-값 쌍 추가\n",
    "    agency_dict[keys[i]] = vals[i]\n",
    "\n",
    "print(agency_dict)\n",
    "```\n",
    "\n",
    "이 코드는 `keys` 리스트와 `vals` 리스트의 길이만큼 for 반복문을 수행합니다. 각 반복에서는 `keys` 리스트의 i번째 요소를 키로, `vals` 리스트의 i번째 요소를 값으로 하는 키-값 쌍을 딕셔너리에 추가합니다.\n",
    "\n",
    "</aside>"
   ]
  },
  {
   "cell_type": "markdown",
   "metadata": {},
   "source": [
    "### Chapter13 : `Python의 시퀀스 자료형 중 하나인 set에 대해 알아보고 문제를 해결해보자`"
   ]
  },
  {
   "cell_type": "markdown",
   "metadata": {},
   "source": [
    "<span style=\"font-size:80%\">[문제1]<br><br></span>\n",
    "세트 money의 결과로 올바른 것을 골라주세요\n",
    "\n",
    "money = { '만원', '만원', '오만원', '백원', '오만원', '십원' }\n",
    "\n",
    "1. { '백원', '십원' }\n",
    "2. {'만원', '백원', '십원', '오만원'}\n",
    "3. {'만원', '백원', '십원'}\n",
    "4. {'만원',  '오만원'}"
   ]
  },
  {
   "cell_type": "markdown",
   "metadata": {},
   "source": [
    "<span style=\"color:red\">답변</span>"
   ]
  },
  {
   "cell_type": "markdown",
   "metadata": {},
   "source": [
    "<aside>\n",
    "🔑 정답 : {’만원’, ‘백원’, ‘십원’, ‘오만원’}\n",
    "\n",
    "<br>\n",
    "\n",
    "**`money`는 파이썬의 세트(Set) 형식입니다. \n",
    "세트는 중복된 값을 가질 수 없고 순서가 없는 자료형입니다.**\n",
    "\n",
    "**그래서 `money = { '만원', '만원', '오만원', '백원', '오만원', '십원' }`를 실행하면, 중복된 '만원'과 '오만원'은 각각 한 번씩만 세트에 포함되며, 나머지 '백원'과 '십원'도 포함됩니다.**\n",
    "\n",
    "**따라서 결과적으로 `money` 세트는 '만원', '오만원', '백원', '십원' 이렇게 4개의 요소를 가지게 됩니다. \n",
    "순서는 정해져 있지 않으므로 어떤 순서로 출력될지는 실행할 때마다 달라질 수 있습니다.**\n",
    "\n",
    "**세트의 중복을 허락하지 않는 형식은 순서가 없는 자료의 유일성을 보장하거나, 자료의 중**\n",
    "\n",
    "**복을 제거하는 등의 작업에 유용하게 사용됩니다.**\n",
    "\n",
    "</aside>"
   ]
  },
  {
   "cell_type": "markdown",
   "metadata": {},
   "source": [
    "----"
   ]
  },
  {
   "cell_type": "markdown",
   "metadata": {},
   "source": [
    "<span style=\"font-size:80%\">[문제2]<br><br></span>\n",
    "세트 x = {3, 6, 9} 그리고 y = {1, 2, 3}가 있을 때, 집합 연산의 결과로 잘못된 것을 모두 고르세요\n",
    "\n",
    "1. set.union(x, y)는 {1, 2, 3, 6, 9}\n",
    "2. x ^ y는 {1, 3, 6}\n",
    "3. x - y는 {6, 9}\n",
    "4. x & y는 { 3 }\n",
    "5. set.difference(y, x)는 { 2 }"
   ]
  },
  {
   "cell_type": "markdown",
   "metadata": {},
   "source": [
    "<span style=\"color:red\">답변</span>"
   ]
  },
  {
   "cell_type": "markdown",
   "metadata": {},
   "source": [
    "<aside>\n",
    "🔑 정답 : x ^ y는 {1, 3, 6}, set.difference(y, x)는 { 2 }\n",
    "\n",
    "<br>\n",
    "\n",
    "- `set.union(x, y)`: 이 함수는 두 세트 x와 y의 합집합을 반환합니다. 즉, x와 y에 속한 모든 요소를 포함하는 세트를 반환합니다. 따라서 이 경우 결과는 {1, 2, 3, 6, 9}가 됩니다.\n",
    "- `x ^ y`: 이 연산자는 두 세트 x와 y의 대칭 차집합을 반환합니다. 즉, x와 y 중 한 세트에만 포함된 요소들을 반환합니다. 따라서 이 경우 결과는 {1, 2, 6, 9}가 됩니다.\n",
    "- `x - y`: 이 연산자는 세트 x에서 세트 y의 요소를 제거한 차집합을 반환합니다. 따라서 이 경우 결과는 {6, 9}가 됩니다.\n",
    "- `x & y`: 이 연산자는 두 세트 x와 y의 교집합을 반환합니다. 즉, x와 y에 모두 포함된 요소들을 반환합니다. 따라서 이 경우 결과는 {3}가 됩니다.\n",
    "- `set.difference(y, x)`: 이 함수는 세트 y에서 세트 x의 요소를 제거한 차집합을 반환합니다. 따라서 이 경우 결과는 {1, 2}가 됩니다.\n",
    "</aside>"
   ]
  },
  {
   "cell_type": "markdown",
   "metadata": {},
   "source": [
    "----"
   ]
  },
  {
   "cell_type": "markdown",
   "metadata": {},
   "source": [
    "<span style=\"font-size:80%\">[문제3]<br><br></span>\n",
    "과일 바구니 안에 두리안이 있는지 확인하기 위한 코드를 작성해 주세요\n",
    "\n",
    "과일_바구니 = {'사과', '포도', '샤인머스켓', '두리안'}"
   ]
  },
  {
   "cell_type": "markdown",
   "metadata": {},
   "source": [
    "<span style=\"color:red\">답변</span>"
   ]
  },
  {
   "cell_type": "markdown",
   "metadata": {},
   "source": [
    "<aside>\n",
    "🔑 정답 : ‘두리안’ in 과일_바구니\n",
    "\n",
    "<br>\n",
    "\n",
    "파이썬에서 `in` 키워드는 특정 요소가 리스트, 튜플, 세트, 딕셔너리 등의 컬렉션 타입에 포함되어 있는지 여부를 확인할 때 사용합니다.\n",
    "\n",
    "따라서 `'두리안' in 과일_바구니`라는 표현은 '두리안'이 `과일_바구니` 세트에 포함되어 있으면 `True`를, 그렇지 않으면 `False`를 반환합니다.\n",
    "\n",
    "`print` 함수는 괄호 안의 내용을 콘솔에 출력하는 역할을 합니다. 따라서 `print('두리안' in 과일_바구니)` 코드는 '두리안'이 과일_바구니에 있는지 없는지를 `True` 또는 `False`로 출력해줍니다.\n",
    "\n",
    "</aside>"
   ]
  },
  {
   "cell_type": "markdown",
   "metadata": {},
   "source": [
    "----"
   ]
  },
  {
   "cell_type": "markdown",
   "metadata": {},
   "source": [
    "<span style=\"font-size:80%\">[문제4]<br><br></span>\n",
    "메서드와 연산자의 기능이 잘못 짝지어진 것을 골라주세요\n",
    "\n",
    "1. set.intersection은 &와 같다.\n",
    "2. set.update는 |=와 같다.\n",
    "3. symmetric_difference_update는 -=와 같다.\n",
    "4. issuperset은 >와 같다.\n",
    "5. set.union은 |와 같다."
   ]
  },
  {
   "cell_type": "markdown",
   "metadata": {},
   "source": [
    "<span style=\"color:red\">답변</span>"
   ]
  },
  {
   "cell_type": "markdown",
   "metadata": {},
   "source": [
    "<aside>\n",
    "🔑 정답 : symmetric_difference_update는 -=와 같다.\n",
    "\n",
    "<br>\n",
    "\n",
    "symmetric_difference_update' 메서드는 '^=' 연산자와 동일한 기능을 합니다. 이 메서드와 연산자는 한 세트에서 다른 세트와의 대칭 차집합을 구한 후, 그 결과를 원래의 세트에 업데이트합니다.\n",
    "\n",
    "반면에, '-=' 연산자는 세트에서 다른 세트의 요소를 제거하는 기능을 합니다. 이는 'difference_update' 메서드와 동일한 기능입니다.\n",
    "\n",
    "따라서, 'symmetric_difference_update' 메서드는 '-=' 연산자와 같지 않고, '^=' 연산자와 같습니다.\n",
    "\n",
    "</aside>"
   ]
  },
  {
   "cell_type": "markdown",
   "metadata": {},
   "source": [
    "----"
   ]
  },
  {
   "cell_type": "markdown",
   "metadata": {},
   "source": [
    "<span style=\"font-size:80%\">[문제5]<br><br></span>\n",
    "세트를 만드는 방법으로 올바르지 않은 것을 골라주세요\n",
    "\n",
    "1. x = {1, 2, 3, 4, 5}\n",
    "2. x = { }\n",
    "3. x = set('hello')\n",
    "4. x  = set(range(10))\n",
    "5. x = set()"
   ]
  },
  {
   "cell_type": "markdown",
   "metadata": {},
   "source": [
    "<span style=\"color:red\">답변</span>"
   ]
  },
  {
   "cell_type": "markdown",
   "metadata": {},
   "source": [
    "<aside>\n",
    "🔑 정답 : x = { }\n",
    "\n",
    "<br>\n",
    "\n",
    "파이썬에서 `{ }`는 빈 딕셔너리를 의미합니다. 따라서 이 코드는 빈 세트가 아니라 빈 딕셔너리를 생성합니다.\n",
    "\n",
    "세트를 생성할 때는 `{1, 2, 3}`과 같이 중괄호 안에 요소를 넣거나 `set()` 함수를 사용해야 합니다. 만약 빈 세트를 만들고 싶다면 `x = set()`을 사용해야 합니다.\n",
    "\n",
    "</aside>"
   ]
  }
 ],
 "metadata": {
  "language_info": {
   "name": "python"
  }
 },
 "nbformat": 4,
 "nbformat_minor": 2
}
