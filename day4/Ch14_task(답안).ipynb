{
 "cells": [
  {
   "cell_type": "markdown",
   "metadata": {},
   "source": [
    "<span style=\"font-size:100%\">\n",
    "\n",
    "수업은 모두 열심히 들으셨나요?\n",
    "\n",
    "간혹 강의에서 언급되지 않은 내용이 문제로 나올 수 있습니다.<br>\n",
    "그럴땐 강의 내용 외 문제는 구글링을 통해 해결해주세요<br></span>\n",
    "<span style=\"font-size:80%\">\n",
    "(구글링 또한 개발자가 갖쳐야할 역량 중에 하나랍니다 😊)\n",
    "</span>\n",
    "\n",
    "---"
   ]
  },
  {
   "cell_type": "markdown",
   "metadata": {},
   "source": [
    "### Chapter14 : `Python if문을 이용해 조건을 만족 또는 만족하지 않는 상황을 이용해 프로그램의 흐름 제어를 해보자`"
   ]
  },
  {
   "cell_type": "markdown",
   "metadata": {},
   "source": [
    "<span style=\"font-size:80%\">[문제1]<br><br></span>\n",
    "```다음 중 True로 취급되지 않는 것을 골라주세요```\n",
    "\n",
    "1. 1\n",
    "2. \"수강생\"\n",
    "3. None\n",
    "4. [\"양파\", \"옥수수\", \"배추\"]"
   ]
  },
  {
   "cell_type": "markdown",
   "metadata": {},
   "source": [
    "<span style=\"color:red\">답변</span>"
   ]
  },
  {
   "cell_type": "markdown",
   "metadata": {},
   "source": [
    "<aside>\n",
    "🔑 정답 : None\n",
    "\n",
    "<br>\n",
    "\n",
    "파이썬에서 `None`은 불리언 컨텍스트에서 `False`로 간주됩니다.\n",
    "\n",
    "파이썬에서 `None`은 아무런 값도 없음을 나타내는 특별한 상수입니다. \n",
    "따라서 `None`은 불리언 컨텍스트에서 `False`로 간주되며, 이는 파이썬의 기본 규칙 중 하나입니다.\n",
    "\n",
    "</aside>"
   ]
  },
  {
   "cell_type": "markdown",
   "metadata": {},
   "source": [
    "----"
   ]
  },
  {
   "cell_type": "markdown",
   "metadata": {},
   "source": [
    "<span style=\"font-size:80%\">[문제2]<br><br></span>\n",
    "```아래 코드의 출력 결과를 입력해주세요```\n",
    "\n",
    "```if not ' ':```<br>\n",
    "&nbsp;```  print(True)```<br>\n",
    "\n",
    "```else:```<br>\n",
    "&nbsp;```  print(False)```<br>"
   ]
  },
  {
   "cell_type": "markdown",
   "metadata": {},
   "source": [
    "<span style=\"color:red\">답변</span>"
   ]
  },
  {
   "cell_type": "markdown",
   "metadata": {},
   "source": [
    "<aside>\n",
    "🔑 정답 : False\n",
    "\n",
    "<br>\n",
    "\n",
    "파이썬에서 빈 문자열 `''`은 불리언 컨텍스트에서 `False`로 간주되지만, 공백 한 개가 포함된 문자열 `' '`는 빈 문자열이 아니므로 `True`로 간주됩니다.\n",
    "\n",
    "따라서 `if not ' '`의 조건은 `if not True`와 같으므로 조건이 성립하지 않아 `else`문이 실행되어 `False`가 출력됩니다.\n",
    "\n",
    "간단하게 요약하면, 공백 한 개가 포함된 문자열은 불리언 컨텍스트에서 `True`로 간주되므로 `not ' '`는 `False`가 됩니다. 이로 인해 `else`문이 실행되어 `False`가 출력됩니다.\n",
    "\n",
    "</aside>"
   ]
  },
  {
   "cell_type": "markdown",
   "metadata": {},
   "source": [
    "----"
   ]
  },
  {
   "cell_type": "markdown",
   "metadata": {},
   "source": [
    "<span style=\"font-size:80%\">[문제3]<br><br></span>\n",
    "```if 조건문에 대한 설명으로 올바른 것을 골라주세요```\n",
    "\n",
    "1. if문은 조건을 만족하지 않을때 실행된다.\n",
    "2. else문은 조건문이 참일 때 실행된다.\n",
    "3. else는 단독으로 사용할 수 없다.\n",
    "4. else에서 실행되는 코드는 다음 줄에서 들여쓰기를 하지 않아야 한다.\n",
    "5. if는 항상 else가 있어여 한다."
   ]
  },
  {
   "cell_type": "markdown",
   "metadata": {},
   "source": [
    "<span style=\"color:red\">답변</span>"
   ]
  },
  {
   "cell_type": "markdown",
   "metadata": {},
   "source": [
    "<aside>\n",
    "🔑 정답 : else는 단독으로 사용할 수 없다\n",
    "\n",
    "<br>\n",
    "\n",
    "- if문은 조건을 만족하지 않을때 실행된다\"는 잘못되었습니다. \n",
    "if문은 제시된 조건이 참(True)일 때 실행됩니다. 반대로 조건이 거짓(False)일 경우 if문에 속한 코드 블럭은 건너뛰게 됩니다.\"\n",
    "- else문은 조건문이 참일 때 실행된다\"는 틀렸습니다. \n",
    "else문은 if문의 조건이 거짓(False)일 때 실행됩니다. 즉, if문의 조건이 참(True)이면 if문에 해당하는 코드 블럭이 실행되고, 거짓(False)이면 else문에 해당하는 코드 블럭이 실행됩니다.\"\n",
    "- else는 단독으로 사용할 수 없다\"는 맞습니다. \n",
    "else문은 항상 if문이나 elif문과 함께 사용되어야 합니다. 단독으로 사용하려고 하면 문법 오류가 발생합니다.\"\n",
    "- else에서 실행되는 코드는 다음 줄에서 들여쓰기를 하지 않아야 한다\"는 잘못되었습니다. \n",
    "파이썬에서는 if문, else문 등의 제어문에서 실행되는 코드 블럭은 반드시 들여쓰기(indentation)를 해야 합니다. 들여쓰기를 하지 않으면 문법 오류가 발생합니다.\"\n",
    "- if는 항상 else가 있어야 한다\"는 틀린 설명입니다. \n",
    "if문은 단독으로 사용할 수 있으며, else문 없이도 코드를 작성할 수 있습니다. else문은 선택적으로 사용하는 것으로, if문의 조건이 거짓일 때 실행할 코드가 있을 경우에만 사용합니다.\n",
    "</aside>"
   ]
  },
  {
   "cell_type": "markdown",
   "metadata": {},
   "source": [
    "----"
   ]
  },
  {
   "cell_type": "markdown",
   "metadata": {},
   "source": [
    "<span style=\"font-size:80%\">[문제4]<br><br></span>\n",
    "```아래 코드의 출력으로 올바른 것을 골라주세요```\n",
    "\n",
    "```x = 5```\n",
    "\n",
    "```if x % 2 ==0:```<br>\n",
    "&nbsp;&nbsp;```print(\"짝수\")```\n",
    "\n",
    "```else:```<br>\n",
    "&nbsp;&nbsp;```print(\"홀수\")```<br>\n",
    "\n",
    "\n",
    "1. 짝수\n",
    "2. 1\n",
    "3. 2\n",
    "4. 홀수\n",
    "5. 아무것도 출력되지 않는다."
   ]
  },
  {
   "cell_type": "markdown",
   "metadata": {},
   "source": [
    "<span style=\"color:red\">답변</span>"
   ]
  },
  {
   "cell_type": "markdown",
   "metadata": {},
   "source": [
    "<aside>\n",
    "🔑 정답 : 홀수\n",
    "\n",
    "<br>\n",
    "\n",
    "1. `x = 5`라는 코드로 변수 `x`에 정수 5를 할당합니다.\n",
    "2. `if x % 2 == 0:` 이라는 조건문에서 `x`를 2로 나눈 나머지가 0인지를 확인합니다. \n",
    "이때 `x`는 5로 홀수이기 때문에, 이 조건문의 결과는 False입니다.\n",
    "따라서 `if`문에 해당하는 `print(\"짝수\")`는 실행되지 않고, `else:` 문에 해당하는 `print(\"홀수\")`가 실행됩니다.\n",
    "</aside>"
   ]
  },
  {
   "cell_type": "markdown",
   "metadata": {},
   "source": [
    "----"
   ]
  },
  {
   "cell_type": "markdown",
   "metadata": {},
   "source": [
    "<span style=\"font-size:80%\">[문제5]<br><br></span>\n",
    "```아래의 if 조건과 동일한 조건을 찾아주세요```\n",
    "\n",
    "```if 15 >= x and x > 3```\n",
    "\n",
    "1. x < 3 < 15\n",
    "2. 3 <= x < 15\n",
    "3. 3 <= x <= 15\n",
    "4. 15 >= x\n",
    "5. 3 < x <= 15"
   ]
  },
  {
   "cell_type": "markdown",
   "metadata": {},
   "source": [
    "<span style=\"color:red\">답변</span>"
   ]
  },
  {
   "cell_type": "markdown",
   "metadata": {},
   "source": [
    "<aside>\n",
    "🔑 정답 : 3 < x <= 15\n",
    "\n",
    "<br>\n",
    "\n",
    "15 >= x and  x >3와 3 < x <= 15 두 조건문은 모두 `x`가 3보다 크고 15 이하인 경우를 나타냅니다.\n",
    "\n",
    "파이썬에서는 두 개 이상의 비교 연산자를 연결하여 사용할 수 있습니다. \n",
    "`3 < x <= 15`는 `x > 3`과 `x <= 15`를 동시에 만족하는 경우를 나타냅니다.\n",
    "\n",
    "따라서 `if 15 >= x and x > 3`와 `if 3 < x <= 15`는 동일한 의미를 가지며, 동일한 조건을 만족하는 `x`에 대해 참(True)을 반환합니다.\n",
    "\n",
    "</aside>"
   ]
  },
  {
   "cell_type": "markdown",
   "metadata": {},
   "source": [
    "----"
   ]
  },
  {
   "cell_type": "markdown",
   "metadata": {},
   "source": [
    "### Chapter15 : `Python의 for문을 이용해 반복되는 작업 코드 개선해보기`"
   ]
  },
  {
   "cell_type": "markdown",
   "metadata": {},
   "source": [
    "<span style=\"font-size:80%\">[문제1]<br><br></span>\n",
    "```다음 중 for문으로 10번 반복하는 방법으로 올바른 것을 모두 골라주세요```\n",
    "\n",
    "1. for i in range(10):\n",
    "2. for i in range(5, 16):\n",
    "3. for i in range(10, 0):\n",
    "4. for i in range(20, 40, 2):\n",
    "5. for i in range(1, 10, 1):"
   ]
  },
  {
   "cell_type": "markdown",
   "metadata": {},
   "source": [
    "<span style=\"color:red\">답변</span>"
   ]
  },
  {
   "cell_type": "markdown",
   "metadata": {},
   "source": [
    "<aside>\n",
    "🔑 정답 : for i in range(10): , for i in range(20, 40, 2):\n",
    "\n",
    "<br>\n",
    "\n",
    "**`for i in range(10):`\n",
    "이 코드는 0부터 9까지 총 10번 반복됩니다. 파이썬의 `range()` 함수는 기본적으로 0부터 시작하고, 입력한 숫자 직전까지의 범위를 생성합니다.**\n",
    "\n",
    "**`for i in range(5, 16):`\n",
    "이 코드는 5부터 15까지 총 11번 반복됩니다. `range()` 함수에 두 개의 숫자를 입력하면, 첫 번째 숫자부터 시작하여 두 번째 숫자 직전까지의 범위를 생성합니다.**\n",
    "\n",
    "**`for i in range(10, 0):`\n",
    "이 코드는 반복이 일어나지 않습니다. `range()` 함수의 시작 숫자가 종료 숫자보다 클 경우, 반복이 일어나지 않습니다.**\n",
    "\n",
    "**`for i in range(20, 40, 2):`\n",
    "이 코드는 20부터 39까지 2씩 증가하는 수를 생성하므로, 총 10번 반복됩니다. `range()` 함수에 세 번째 숫자(증가치)를 입력하면, 시작 숫자부터 종료 숫자 직전까지 해당 증가치만큼 증가하는 수를 생성합니다.**\n",
    "\n",
    "**`for i in range(1, 10, 1):`\n",
    "이 코드는 1부터 9까지 1씩 증가하는 수를 생성하므로, 총 9번 반복됩니다.**\n",
    "\n",
    "</aside>"
   ]
  },
  {
   "cell_type": "markdown",
   "metadata": {},
   "source": [
    "----"
   ]
  },
  {
   "cell_type": "markdown",
   "metadata": {},
   "source": [
    "<span style=\"font-size:80%\">[문제2]<br><br></span>\n",
    "```아래 코드에서 잘못된 부분에 대해서 설명해주세요```\n",
    "\n",
    "count = input()\n",
    "\n",
    "for i in range(count)<br>\n",
    "&emsp;&emsp;print('i의 값은', end=' ')<br>\n",
    "&emsp;&emsp;print(i)<br>"
   ]
  },
  {
   "cell_type": "markdown",
   "metadata": {},
   "source": [
    "<span style=\"color:red\">답변</span>"
   ]
  },
  {
   "cell_type": "markdown",
   "metadata": {},
   "source": [
    "<aside>\n",
    "🔑 정답 :\n",
    "\n",
    "입력받은 `count`를 `range()` 함수에 사용하려면, 먼저 `count`를 정수형으로 변환해야 합니다.\n",
    "\n",
    "</aside>"
   ]
  },
  {
   "cell_type": "markdown",
   "metadata": {},
   "source": [
    "----"
   ]
  },
  {
   "cell_type": "markdown",
   "metadata": {},
   "source": [
    "<span style=\"font-size:80%\">[문제3]<br><br></span>\n",
    "```아래 코드를 실행 했을 때 결과물로 올바른 것을 골라주세요```\n",
    "\n",
    "for i in reversed(\"python\"):<br>\n",
    "&emsp;&emsp;print(i, end='.')<br>\n",
    "\n",
    "\n",
    "1. n.o.h.t.y.p.\n",
    "2. p.y.t.h.o.n.\n",
    "3. nothyp\n",
    "4. python"
   ]
  },
  {
   "cell_type": "markdown",
   "metadata": {},
   "source": [
    "<span style=\"color:red\">답변</span>"
   ]
  },
  {
   "cell_type": "markdown",
   "metadata": {},
   "source": [
    "<aside>\n",
    "🔑 정답 :\n",
    "\n",
    "위 **코드는 문자열 \"python\"의 문자들을 역순으로, 각 문자 사이에 '.'을 추가하여 출력합니다.**\n",
    "\n",
    "**`reversed()` 함수는 입력된 시퀀스(여기서는 문자열 \"python\")를 역순으로 반환합니다. 따라서 'n', 'o', 'h', 't', 'y', 'p' 순서로 반환됩니다.**\n",
    "\n",
    "**그 다음, `for` 루프를 사용하여 이 문자들을 하나씩 가져오고, `print()` 함수를 사용하여 각 문자를 출력합니다. `end='.'` 파라미터를 사용하여 각 문자를 출력한 후에 '.'을 추가합니다.**\n",
    "\n",
    "**따라서 최종 출력 결과는 `n.o.h.t.y.p.`가 됩니다. 이 결과는 \"python\"의 각 문자를 역순으로 배열하고, 각 문자 사이에 '.'을 추가한 것입니다.**\n",
    "\n",
    "</aside>"
   ]
  },
  {
   "cell_type": "markdown",
   "metadata": {},
   "source": [
    "----"
   ]
  },
  {
   "cell_type": "markdown",
   "metadata": {},
   "source": [
    "<span style=\"font-size:80%\">[문제4]<br><br></span>\n",
    "```리스트에 저장된 데이터를 아래와 같이 출력하세요```\n",
    "\n",
    "오피스텔 = [ [201, 202], [301, 302], [401, 402] ]\n",
    "\n",
    "201호<br>\n",
    "202호<br>\n",
    "`----`\n",
    "\n",
    "301호<br>\n",
    "302호<br>\n",
    "`----`\n",
    "\n",
    "401호<br>\n",
    "402호<br>\n",
    "`----`"
   ]
  },
  {
   "cell_type": "markdown",
   "metadata": {},
   "source": [
    "<span style=\"color:red\">답변</span>"
   ]
  },
  {
   "cell_type": "markdown",
   "metadata": {},
   "source": [
    "<aside>\n",
    "🔑 정답 : \n",
    "\n",
    "```python\n",
    "for 층 in 오피스텔:\n",
    "    for 호 in 층:\n",
    "        print(f'{호}호')\n",
    "    print('---')\n",
    "```\n",
    "\n",
    "**위 코드는 먼저 `오피스텔` 리스트의 각 원소(여기서는 각 층을 나타내는 리스트)에 대해 반복합니다.** \n",
    "\n",
    "**그 다음, 각 층의 각 호에 대해 반복하며 `print(f'{호}호')`를 통해 각 호를 출력합니다. 각 층의 모든 호를 출력한 후에는 `print('---')`를 통해 구분선을 출력합니다.** \n",
    "\n",
    "**이 과정을 모든 층에 대해 반복하여 원하는 출력을 얻습니다.**\n",
    "\n",
    "</aside>"
   ]
  },
  {
   "cell_type": "markdown",
   "metadata": {},
   "source": [
    "----"
   ]
  },
  {
   "cell_type": "markdown",
   "metadata": {},
   "source": [
    "<span style=\"font-size:80%\">[문제5]<br><br></span>\n",
    "```ohlc 리스트에는 시가(open), 고가 (high), 저가 (low) , 종가(close)가 날짜별로 저장돼 있다. 종가가 150원보다 큰 경우에만 종가를 출력하는 코드를 작성해주세요```\n",
    "\n",
    "ohlc = [[\"open\", \"high\", \"low\", \"close\"], [100, 110, 70, 100], [200, 210, 180, 190], [300, 310, 300, 310]]"
   ]
  },
  {
   "cell_type": "markdown",
   "metadata": {},
   "source": [
    "<span style=\"color:red\">답변</span>"
   ]
  },
  {
   "cell_type": "markdown",
   "metadata": {},
   "source": [
    "<aside>\n",
    "🔑 정답 :\n",
    "\n",
    "```python\n",
    "for i in ohlc[1:]:\n",
    "    if i[3] > 150:\n",
    "        print(i[3])\n",
    "```\n",
    "\n",
    "위 코드는 `ohlc` 리스트의 각 원소(여기서는 각 날짜의 시가, 고가, 저가, 종가를 나타내는 리스트)에 대해 반복합니다. \n",
    "\n",
    "그런데 `ohlc`의 첫 번째 원소는 항목 이름을 나타내는 리스트이므로, `ohlc[1:]`을 통해 첫 번째 원소를 제외한 나머지 원소에 대해 반복하도록 합니다.\n",
    "\n",
    "그 다음, 각 날짜의 종가(리스트의 네 번째 원소, 즉 `i[3]`)가 150원보다 큰 경우에만 `print(i[3])`을 통해 종가를 출력합니다. 이 과정을 모든 날짜에 대해 반복하여 원하는 출력을 얻습니다.\n",
    "\n",
    "</aside>"
   ]
  },
  {
   "cell_type": "markdown",
   "metadata": {},
   "source": [
    "### Chapter16 : `Python의 While문을 활용해 반복되는 코드를 개선해 보자`"
   ]
  },
  {
   "cell_type": "markdown",
   "metadata": {},
   "source": [
    "<span style=\"font-size:80%\">[문제1]<br><br></span>\n",
    "아래 코드의 올바른 실행 결과를 골라주세요\n",
    "```\n",
    "i = 10\n",
    "\n",
    "while i < 19:\n",
    "    print(i, end=' ')\n",
    "    i += 2\n",
    "```\n",
    "\n",
    "1. 10, 11, 12, 13, 14, 15, 16, 17, 18, 19\n",
    "2. 10 11 12 13 14 15 16 17 18\n",
    "3. 10 12 14 16 18 19\n",
    "4. 10 12 14 16 18\n",
    "5. 10 12 14 16"
   ]
  },
  {
   "cell_type": "markdown",
   "metadata": {},
   "source": [
    "<span style=\"color:red\">답변</span>"
   ]
  },
  {
   "cell_type": "markdown",
   "metadata": {},
   "source": [
    "<aside>\n",
    "🔑 정답 : 10 12 14 16 18\n",
    "\n",
    "<br>\n",
    "\n",
    "**위 코드는 i가 19 미만인 동안 i 뒤에 공백을 붙여 출력하고, i를 2씩 증가시키는 while 반복문입니다.**\n",
    "\n",
    "**i를 10으로 정의했기 때문에 10부터 시작하며, 19 미만인 18까지의 숫자가 출력됩니다.**\n",
    "\n",
    "</aside>"
   ]
  },
  {
   "cell_type": "markdown",
   "metadata": {},
   "source": [
    "----"
   ]
  },
  {
   "cell_type": "markdown",
   "metadata": {},
   "source": [
    "<span style=\"font-size:80%\">[문제2]<br><br></span>\n",
    "다음 중 while 반복문에 대한 설명으로 잘못된 것을 모두 골라주세요\n",
    "\n",
    "1. while 반복문에는 조건식 또는 값을 지정하면 된다.\n",
    "2. while 반복문은 조건식의 결과가 True이면 반복을 끝낸다.\n",
    "3. while 반복문은 반복 횟수가 정해져 있을 때만 사용할 수 있다.\n",
    "4. while 반복문의 다음 줄은 반드시 들여쓰기를 해야 한다.\n",
    "5. while 반복문의 조건식에 True를 지정하면 무한 루프가 된다."
   ]
  },
  {
   "cell_type": "markdown",
   "metadata": {},
   "source": [
    "<span style=\"color:red\">답변</span>"
   ]
  },
  {
   "cell_type": "markdown",
   "metadata": {},
   "source": [
    "<aside>\n",
    "🔑 정답 : while 반복문은 조건식의 결과가 True이면 반복을 끝낸다, \n",
    "          while 반복문은 반복 횟수가 정해져 있을 때만 사용할 수 있다.\n",
    "\n",
    "<br>\n",
    "\n",
    "- **“while 반복문에는 조건식 또는 값을 지정하면 된다.” 는 맞습니다.**\n",
    "`while` 반복문은 특정 조건식이 참(`True`)일 때 반복을 계속 실행합니다. 조건식이 참인 동안 루프가 실행되며, 조건식이 거짓(`False`)이 되면 루프가 종료됩니다. 여기서 조건식은 불리언 값으로 해석될 수 있는 모든 표현식을 사용할 수 있습니다.\n",
    "- **\"while 반복문은 조건식의 결과가 True이면 반복을 끝낸다.” 는 틀렸습니다.**\n",
    "while 반복문은 조건식이 `True`일 때 계속 반복하고, 조건식이 `False`일 때 반복을 종료합니다.\n",
    "반복문을 끝내는 조건식이 정의되지 않으면 무한루프에 빠질 수도 있습니다.\n",
    "- **\"while 반복문은 반복 횟수가 정해져 있을 때만 사용할 수 있다.” 는 틀렸습니다.**\n",
    "while 반복문은 반복 횟수를 정하지 않고 사용할 수 있는 특징을 가집니다.\n",
    "반복 횟수가 정해져야 한다면 `for` 문이 더욱 적합할 수 있습니다.\n",
    "- **\"while 반복문의 다음 줄은 반드시 들여쓰기를 해야한다.” 는 맞습니다.**\n",
    "들여쓰기는 파이썬에서 중요한 문법 규칙 중 하나로, while 반복문 내에서 실행되어야 하는 코드블럭은 반드시 while문 안으로 들여쓰기(indentation) 되어야 합니다.\n",
    "- **\"while 반복문의 조건식에 True를 지정하면 무한 루프가 된다.” 는 맞습니다.**\n",
    "while 반복문은 조건식이 True일 때 실행되기 때문에, 조건이 True인 동안은 무한 루프에 빠져\n",
    "트래픽 문제가 발생할 수도 있습니다. 무한 루프를 빠져나오기 위해서는 `break` 문을 사용할 수 있습니다.\n",
    "</aside>"
   ]
  },
  {
   "cell_type": "markdown",
   "metadata": {},
   "source": [
    "----"
   ]
  },
  {
   "cell_type": "markdown",
   "metadata": {},
   "source": [
    "<span style=\"font-size:80%\">[문제3]<br><br></span>\n",
    "while문을 사용하여, 100 이상의 자연수 중 가장 작은 23의 배수를 츨력하는 코드를 작성해주세요"
   ]
  },
  {
   "cell_type": "markdown",
   "metadata": {},
   "source": [
    "<span style=\"color:red\">답변</span>"
   ]
  },
  {
   "cell_type": "markdown",
   "metadata": {},
   "source": [
    "<aside>\n",
    "🔑 정답 :\n",
    "\n",
    "```python\n",
    "i = 100\n",
    "\n",
    "while True :\n",
    "    if i%23 == 0 :\n",
    "        print(i)\n",
    "        break\n",
    "    i += 1\n",
    "```\n",
    "\n",
    "**`i = 100` ’100이상의 자연수 중’ 이라는 조건에 따라 불필요한 100 이하의 숫자를 반복하지 않고 100부터 시작합니다.**\n",
    "\n",
    "**`while True:` 들여쓰기 된 코드블럭을 반복합니다.**\n",
    "\n",
    "**`if i%23 == 0:` 23의 배수는 23으로 나눴을 때 나머지가 0인 숫자입니다. 이에 대한 if문을 사용하여 조건식을 작성합니다. \n",
    "`print(i)` 배수를 출력하는 print문입니다.**\n",
    "\n",
    "**`break` if 조건식이 성립되면 반복문을 중지합니다.**\n",
    "\n",
    "**`i += 1` if 조건식이 성립되기 전까지 i를 1씩 증가시킵니다.**\n",
    "\n",
    "</aside>"
   ]
  },
  {
   "cell_type": "markdown",
   "metadata": {},
   "source": [
    "----"
   ]
  }
 ],
 "metadata": {
  "language_info": {
   "name": "python"
  }
 },
 "nbformat": 4,
 "nbformat_minor": 2
}
