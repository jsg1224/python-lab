{
 "cells": [
  {
   "cell_type": "markdown",
   "metadata": {},
   "source": [
    "<span style=\"font-size:100%\">\n",
    "\n",
    "수업은 모두 열심히 들으셨나요?\n",
    "\n",
    "간혹 강의에서 언급되지 않은 내용이 문제로 나올 수 있습니다.<br>\n",
    "그럴땐 강의 내용 외 문제는 구글링을 통해 해결해주세요<br></span>\n",
    "<span style=\"font-size:80%\">\n",
    "(구글링 또한 개발자가 갖쳐야할 역량 중에 하나랍니다 😊)\n",
    "</span>\n",
    "\n",
    "---"
   ]
  },
  {
   "cell_type": "markdown",
   "metadata": {},
   "source": [
    "### Chapter17 : `Python 변수에 대한 개념 복습하고 문제풀기`"
   ]
  },
  {
   "cell_type": "markdown",
   "metadata": {},
   "source": [
    "<span style=\"font-size:80%\">[문제1]<br><br></span>\n",
    "두 수를 받은 뒤 곱한 결과를 반환하는 oz 함수를 만들어주세요\n"
   ]
  },
  {
   "cell_type": "markdown",
   "metadata": {},
   "source": [
    "<span style=\"color:red\">답변</span>"
   ]
  },
  {
   "cell_type": "markdown",
   "metadata": {},
   "source": [
    "<aside>\n",
    "🔑 정답 :\n",
    "\n",
    "이 함수는 `num1`과 `num2` 두 개의 매개변수를 입력 받아, 이를 곱한 결과를 반환합니다. 이를 활용해 실제로 함수를 호출해보면 다음과 같습니다.\n",
    "\n",
    "```python\n",
    "def oz(num1, num2):\n",
    "    return num1 * num2\n",
    "```\n",
    "\n",
    "</aside>"
   ]
  },
  {
   "cell_type": "markdown",
   "metadata": {},
   "source": [
    "<span style=\"font-size:80%\">[문제2]<br><br></span>\n",
    "```\n",
    "아래 작성된 코드의 실행 결과를 설명해주세요\n",
    "\n",
    "print(\"A\") \n",
    "\n",
    "def message() : \n",
    "    print(\"B\") \n",
    "\n",
    "print(\"C\") \n",
    "\n",
    "message()\n",
    "\n",
    "```"
   ]
  },
  {
   "cell_type": "markdown",
   "metadata": {},
   "source": [
    "<span style=\"color:red\">답변</span>"
   ]
  },
  {
   "cell_type": "markdown",
   "metadata": {},
   "source": [
    "<aside>\n",
    "🔑 정답 :\n",
    "\n",
    "A \n",
    "\n",
    "C\n",
    "\n",
    "B\n",
    "\n",
    "</aside>\n",
    "\n",
    "1. **Python은 코드를 위에서부터 아래로 순차적으로 실행합니다. 그래서 가장 먼저 \"A\"를 출력하는 `print(\"A\")`가 실행됩니다.**\n",
    "2. **다음으로 `def message():` 로 함수를 정의하는 부분이 나옵니다. 이 때는 함수를 정의하기만 하고 실행하지는 않으므로 아무런 출력도 일어나지 않습니다.**\n",
    "3. **그 다음 `print(\"C\")`가 실행됩니다.** \n",
    "4. **마지막으로 `message()` 함수를 호출하는 코드가 실행됩니다. 이 때 함수 내부의 `print(\"B\")`가 실행됩니다.**"
   ]
  },
  {
   "cell_type": "markdown",
   "metadata": {},
   "source": [
    "----"
   ]
  },
  {
   "cell_type": "markdown",
   "metadata": {},
   "source": [
    "<span style=\"font-size:80%\">[문제3]<br><br></span>\n",
    "```매개변수가 없는 oz 함수를 호출하는 방법으로 올바른 것을 골라주세요```\n",
    "\n",
    "1. def oz\n",
    "2. oz\n",
    "3. oz( )\n",
    "4. oz[ ]\n",
    "5. def oz:"
   ]
  },
  {
   "cell_type": "markdown",
   "metadata": {},
   "source": [
    "<span style=\"color:red\">답변</span>"
   ]
  },
  {
   "cell_type": "markdown",
   "metadata": {},
   "source": [
    "<aside>\n",
    "🔑 정답 : oz()\n",
    "\n",
    "매개변수가 없는 함수를 호출하는 방법은 함수 이름 뒤에 괄호를 붙여주는 것입니다. 이 때 괄호 안에는 아무런 값도 넣지 않습니다.\n",
    "\n",
    "</aside>"
   ]
  },
  {
   "cell_type": "markdown",
   "metadata": {},
   "source": [
    "----"
   ]
  },
  {
   "cell_type": "markdown",
   "metadata": {},
   "source": [
    "<span style=\"font-size:80%\">[문4]<br><br></span>\n",
    "```문자열 하나를 입력받아 인터넷 주소를 반환하는 make_url 함수를 만들어주세요```\n",
    "\n",
    "예 ) make_url(\"google\")\n",
    "\n",
    "출력 : www.google.com"
   ]
  },
  {
   "cell_type": "markdown",
   "metadata": {},
   "source": [
    "<span style=\"color:red\">답변</span>"
   ]
  },
  {
   "cell_type": "markdown",
   "metadata": {},
   "source": [
    "<aside>\n",
    "🔑 정답 : \n",
    "\n",
    "```python\n",
    "def make_url(site_name):\n",
    "    return \"www.\" + site_name + \".com\"\n",
    "\n",
    "print(make_url(\"google\"))\n",
    "```\n",
    "\n",
    "`site_name`이라는 매개변수를 입력 받아, 이를 \"[www.\"와](http://www.xn--\"-3w6f/) \".com\" 사이에 넣어 URL을 생성하고 반환합니다. 따라서 \"google\"을 매개변수로 전달하면 \"[www.google.com\"이라는](http://www.google.xn--com\"-yc0qp9uu83a/) 문자열이 반환됩니다.\n",
    "\n",
    "</aside>"
   ]
  },
  {
   "cell_type": "markdown",
   "metadata": {},
   "source": [
    "----"
   ]
  },
  {
   "cell_type": "markdown",
   "metadata": {},
   "source": [
    "<span style=\"font-size:80%\">[문제5]<br><br></span>\n",
    "```아래 코드를 실행했을때 c의 값으로 올바른 것을 골라주세요```\n",
    "\n",
    "def 함수0(num) :<br>\n",
    "&emsp;&emsp;return num * 2<br>\n",
    "\n",
    "def 함수1(num) :<br> \n",
    "&emsp;&emsp;return 함수0(num + 2)<br> \n",
    "\n",
    "def 함수2(num) :<br> \n",
    "&emsp;&emsp;num = num + 10<br> \n",
    "&emsp;&emsp;return 함수1(num)<br> \n",
    "\n",
    "c = 함수2(2)<br> \n",
    "print(c)\n",
    "\n",
    "\n",
    "1. 1\n",
    "2. 5\n",
    "3. 3\n",
    "4. 4\n",
    "5. 28"
   ]
  },
  {
   "cell_type": "markdown",
   "metadata": {},
   "source": [
    "<span style=\"color:red\">답변</span>"
   ]
  },
  {
   "cell_type": "markdown",
   "metadata": {},
   "source": [
    "<aside>\n",
    "🔑 정답 :  28\n",
    "\n",
    "1. `함수2(2)`가 호출되면, `num`에 `2`가 할당되고 `num = num + 10` 코드에 의해 `num`의 값은 `12`가 됩니다.\n",
    "2. 그 다음 `return 함수1(num)`에서 `함수1(12)`가 호출됩니다.\n",
    "3. `함수1` 내에서는 `함수0(num + 2)` 즉, `함수0(14)`가 호출됩니다.\n",
    "4. `함수0`에서는 입력받은 수에 `2`를 곱하므로, `14 * 2`의 결과인 `28`이 반환됩니다.\n",
    "5. 이 반환된 값 `28`이 `함수1`을 호출한 `함수2`로 반환되고, 최종적으로 `함수2(2)`의 결과로 `c`에 할당됩니다.\n",
    "</aside>"
   ]
  },
  {
   "cell_type": "markdown",
   "metadata": {},
   "source": [
    "----"
   ]
  },
  {
   "cell_type": "markdown",
   "metadata": {},
   "source": [
    "### Chapter18 : `Python의 Class 개념에 대해 복습하고 문제풀기`"
   ]
  },
  {
   "cell_type": "markdown",
   "metadata": {},
   "source": [
    "<span style=\"font-size:80%\">[문제1]<br><br></span>\n",
    "```클래스 greeting 메서드를 호출하기 위해 필요한 코드를 작성해주세요```\n",
    "\n",
    "class Person:<br>\n",
    "&emsp;def greeting(self):<br>\n",
    "&emsp;&emsp;print('hello')<br>"
   ]
  },
  {
   "cell_type": "markdown",
   "metadata": {},
   "source": [
    "<span style=\"color:red\">답변</span>"
   ]
  },
  {
   "cell_type": "markdown",
   "metadata": {},
   "source": [
    "<aside>\n",
    "🔑 정답 :\n",
    "\n",
    "```python\n",
    "# Person 클래스의 인스턴스 생성\n",
    "person = Person()\n",
    "\n",
    "# greeting 메서드 호출\n",
    "person.greeting()\n",
    "```\n",
    "\n",
    "</aside>\n",
    "\n",
    "위 코드를 실행하면 'hello'라는 메시지가 출력됩니다. 이는 `Person` 클래스의 `greeting` 메서드가 실행되었기 때문입니다."
   ]
  },
  {
   "cell_type": "markdown",
   "metadata": {},
   "source": [
    "----"
   ]
  },
  {
   "cell_type": "markdown",
   "metadata": {},
   "source": [
    "<span style=\"font-size:80%\">[문제2]<br><br></span>\n",
    "```클래스로 인스턴스를 만들때 자동으로 호출되는 메서드를 적어주세요```"
   ]
  },
  {
   "cell_type": "markdown",
   "metadata": {},
   "source": [
    "<span style=\"color:red\">답변</span>"
   ]
  },
  {
   "cell_type": "markdown",
   "metadata": {},
   "source": [
    "<aside>\n",
    "🔑 정답 :  __init__\n",
    "\n",
    "</aside>\n",
    "\n",
    "클래스로 인스턴스를 만들 때 자동으로 호출되는 메서드는 `__init__` 메서드입니다. 이 메서드는 클래스 인스턴스가 생성될 때 자동으로 호출되며, 이를 생성자라고 부릅니다."
   ]
  },
  {
   "cell_type": "markdown",
   "metadata": {},
   "source": [
    "----"
   ]
  },
  {
   "cell_type": "markdown",
   "metadata": {},
   "source": [
    "<span style=\"font-size:80%\">[문제3]<br><br></span>\n",
    "```Person 클래스에 인스턴스 속성인 name에 접근하는 방법으로 올바른 것을 골라주세요```\n",
    "\n",
    "```\n",
    "class Person:\n",
    "    def __init__(self, name):\n",
    "        self.name = name\n",
    "```\n",
    "\n",
    "1. Person.name\n",
    "2. name\n",
    "3. self\n",
    "4. self.name\n",
    "5. self[name]"
   ]
  },
  {
   "cell_type": "markdown",
   "metadata": {},
   "source": [
    "<span style=\"color:red\">답변</span>"
   ]
  },
  {
   "cell_type": "markdown",
   "metadata": {},
   "source": [
    "<aside>\n",
    "🔑 정답 : Person.name\n",
    "\n",
    "클래스 인스턴스의 속성에 접근하기 위해 사용할 수 있는 방법은 인스턴스 이름 뒤에 점(`.`)을 붙이고 그 뒤에 속성 이름을 쓰는 것입니다.\n",
    "\n",
    "</aside>"
   ]
  },
  {
   "cell_type": "markdown",
   "metadata": {},
   "source": [
    "----"
   ]
  },
  {
   "cell_type": "markdown",
   "metadata": {},
   "source": [
    "<span style=\"font-size:80%\">[문제4]<br><br></span>\n",
    "```Person 클래스를 상속받아서 Student 클래스를 만드는 방법으로 올바른 것을 골라주세요```\n",
    "\n",
    "1. class Student(Person)\n",
    "2. class Student:Person\n",
    "3. class Student(Person):\n",
    "4. class Person(student):\n",
    "5. class Studen=Person:"
   ]
  },
  {
   "cell_type": "markdown",
   "metadata": {},
   "source": [
    "<span style=\"color:red\">답변</span>"
   ]
  },
  {
   "cell_type": "markdown",
   "metadata": {},
   "source": [
    "<aside>\n",
    "🔑 정답 : class Student(Person):\n",
    "\n",
    "`Student` 클래스는 `Person` 클래스를 상속받고 있습니다. 이를 표현하기 위해 `Student` 클래스를 정의할 때 괄호 안에 `Person`을 적어줍니다.\n",
    "\n",
    "</aside>"
   ]
  },
  {
   "cell_type": "markdown",
   "metadata": {},
   "source": [
    "----"
   ]
  },
  {
   "cell_type": "markdown",
   "metadata": {},
   "source": [
    "<span style=\"font-size:80%\">[문제5]<br><br></span>\n",
    "```메서드 오버라이딩에 대한 설명으로 올바른 것을 골라주세요```\n",
    "\n",
    "1. 메서드 오버라이딩은 함수 이름을 다르게 만들어도 된다.\n",
    "2. 메서드 오버라이딩은 기반 클래스의 메서드는 무시하고 새로운 메서드를 만든다는 뜻이다\n",
    "3. 메서드 오버라이딩은 어떤 기능이 같은 이름으로 사용되어야 할 때 활용된다.\n",
    "4. 오버라이딩 된 메서드에서 기반 클래스의 메서드를 호출할 수 없다.\n",
    "5. 메서드 오버라이딩은 원래 기능을 유지하면서 새로운 기능을 덧붙일 때 사용한다."
   ]
  },
  {
   "cell_type": "markdown",
   "metadata": {},
   "source": [
    "<span style=\"color:red\">답변</span>"
   ]
  },
  {
   "cell_type": "markdown",
   "metadata": {},
   "source": [
    "<aside>\n",
    "🔑 정답 :  \n",
    "\n",
    "메서드 오버라이딩은 어떤 기능이 같은 이름으로 사용되어야 할 때 활용된다.\n",
    "\n",
    "메서드 오버라이딩은 원래 기능을 유지하면서 새로운 기능을 덧붙일 때 사용한다.\n",
    "\n",
    "1. 메서드 오버라이딩은 함수 이름을 다르게 만들어도 된다. ⇒ **메서드 오버라이딩은 기반 클래스의 메서드와 동일한 이름으로 자식 클래스에서 메서드를 재정의하는 것을 뜻합니다. 따라서 함수 이름을 다르게 만들 수 없습니다.**\n",
    "2. 메서드 오버라이딩은 기반 클래스의 메서드는 무시하고 새로운 메서드를 만든다는 뜻이다. ⇒ **부분적으로 맞지만, 기반 클래스의 메서드를 무시하는 것이 아니라 재정의하는 것입니다.**\n",
    "3. 오버라이딩 된 메서드에서 기반 클래스의 메서드를 호출할 수 없다. ⇒ **오버라이딩 된 메서드에서도 `super()` 함수를 사용하여 기반 클래스의 메서드를 호출할 수 있습니다. 이를 통해 기반 클래스의 기능을 유지하면서 새로운 기능을 추가할 수 있습니다.**\n",
    "</aside>"
   ]
  },
  {
   "cell_type": "markdown",
   "metadata": {},
   "source": [
    "### Chapter19 : `Python 예외처리 방법에 대해 알아보고 문제 풀기`"
   ]
  },
  {
   "cell_type": "markdown",
   "metadata": {},
   "source": [
    "<span style=\"font-size:80%\">[문제1]<br><br></span>\n",
    "```쓰기 모드로 설정하기 위한 명령어를 골라주세요```\n",
    "\n",
    "1. a\n",
    "2. x\n",
    "3. i\n",
    "4. w\n",
    "5. z"
   ]
  },
  {
   "cell_type": "markdown",
   "metadata": {},
   "source": [
    "<span style=\"color:red\">답변</span>"
   ]
  },
  {
   "cell_type": "markdown",
   "metadata": {},
   "source": [
    "<aside>\n",
    "🔑 정답 :  w\n",
    "\n",
    "```python\n",
    "file = open(\"oz.txt\", \"w\")\n",
    "```\n",
    "\n",
    "</aside>\n",
    "\n",
    "\"oz.txt\"는 열고자 하는 파일의 이름이고, \"w\"는 파일을 쓰기 모드로 열겠다는 옵션입니다. 이 모드에서는 새로운 내용을 작성할 수 있으며, 기존에 있던 내용은 모두 삭제됩니다.\n",
    "\n",
    "만약 기존의 내용을 유지하면서 새로운 내용을 추가하고 싶다면, 대신 'a' (append 모드)를 사용할 수 있습니다."
   ]
  },
  {
   "cell_type": "markdown",
   "metadata": {},
   "source": [
    "----"
   ]
  },
  {
   "cell_type": "markdown",
   "metadata": {},
   "source": [
    "<span style=\"font-size:80%\">[문제2]<br><br></span>\n",
    "```한 줄씩 읽어오기 위해 사용되는 메소드를 골라주세요```\n",
    "\n",
    "1. read()\n",
    "2. readline()\n",
    "3. readstring()\n",
    "4. line()"
   ]
  },
  {
   "cell_type": "markdown",
   "metadata": {},
   "source": [
    "<span style=\"color:red\">답변</span>"
   ]
  },
  {
   "cell_type": "markdown",
   "metadata": {},
   "source": [
    "<aside>\n",
    "🔑 정답 :  readline()\n",
    "\n",
    "</aside>\n",
    "\n",
    "파일에서 한 줄씩 읽어오기 위해 사용되는 메소드는 'readline'입니다.\n",
    "\n",
    "```python\n",
    "file = open(\"oz.txt\", \"r\")\n",
    "line = file.readline()\n",
    "```\n",
    "\n",
    "이 코드는 \"oz.txt\" 파일을 열어서 한 줄을 읽어오는 명령입니다. \n",
    "\n",
    "파일의 각 줄은 개행 문자('\\n')로 끝나기 때문에, 'readline' 메소드는 개행 문자를 만날 때까지 또는 파일의 끝에 도달할 때까지 문자열을 읽어옵니다. \n",
    "\n",
    "따라서 이 메소드를 반복적으로 호출하면 파일의 모든 줄을 순서대로 읽어올 수 있습니다."
   ]
  },
  {
   "cell_type": "markdown",
   "metadata": {},
   "source": [
    "----"
   ]
  },
  {
   "cell_type": "markdown",
   "metadata": {},
   "source": [
    "<span style=\"font-size:80%\">[문제3]<br><br></span>\n",
    "```콤마( , )로 구분해서 데이터를 입력하는 csv파일을 만들기 위해 필요한 코드를 추가로 작성해 주세요```\n",
    "\n",
    "list = ['10', '20', '30', '40']\n",
    "\n",
    "with open('test.csv', 'w') as f:<br>\n",
    "&emsp;&emsp;(여기서부터 필요한 코드를 하단 답변란에 작성해주세요)"
   ]
  },
  {
   "cell_type": "markdown",
   "metadata": {},
   "source": [
    "<span style=\"color:red\">답변</span>"
   ]
  },
  {
   "cell_type": "markdown",
   "metadata": {},
   "source": [
    "<aside>\n",
    "🔑 정답 :\n",
    "\n",
    "```python\n",
    "with open('test.csv', 'w') as f:\n",
    "    f.write(','.join(list))\n",
    "```\n",
    "\n",
    "**주어진 리스트를 csv 파일에 쓰기 위해 각 요소를 콤마로 구분하여 저장할 수 있습니다. 파이썬의 `join()` 메소드를 사용하여 리스트의 항목을 콤마로 연결한 문자열을 만들 수 있습니다.**\n",
    "\n",
    "</aside>"
   ]
  },
  {
   "cell_type": "markdown",
   "metadata": {},
   "source": [
    "----"
   ]
  },
  {
   "cell_type": "markdown",
   "metadata": {},
   "source": [
    "### Chapter20 : `Python을 이용한 파일 읽고 쓰기에 대해 복습해보고 문제 풀어보기`"
   ]
  },
  {
   "cell_type": "markdown",
   "metadata": {},
   "source": [
    "<span style=\"font-size:80%\">[문제1]<br><br></span>\n",
    "```다음 중 예외 처리에 대한 설명으로 잘못된 것을 모두 골라주세요```\n",
    "\n",
    "1. try의 코드에서 예외가 발생하면 except가 실행된다.\n",
    "2. 예외는 현재 함수의 코드 블록에서만 처리할 수 있다.\n",
    "3. try의 코드에서 예외가 발생하더라도 except가 실행되면 스크립트는 중단되지 않는다.\n",
    "4. try, except, else에서 예외가 발생하지 않으면 else가 실행된다.\n",
    "5. finally는 예외가 발생하면 실행되지 않는다."
   ]
  },
  {
   "cell_type": "markdown",
   "metadata": {},
   "source": [
    "<span style=\"color:red\">답변</span>"
   ]
  },
  {
   "cell_type": "markdown",
   "metadata": {},
   "source": [
    "<aside>\n",
    "🔑 정답 :  \n",
    "\n",
    "예외는 현재 함수의 코드 블록에서만 처리할 수 있다.\n",
    "\n",
    "finally는 예외가 발생하면 실행되지 않는다.\n",
    "\n",
    "</aside>\n",
    "\n",
    "1. **예외는 현재 함수의 코드 블록에서만 처리할 수 있다. ⇒ 파이썬에서 예외는 발생한 위치에서부터 호출 스택을 거슬러 올라가면서 처리됩니다. 따라서 현재 함수 뿐만 아니라 해당 함수를 호출한 곳에서도 처리할 수 있습니다.**\n",
    "2. **finally는 예외가 발생하면 실행되지 않는다. ⇒ `finally` 블록은 예외 발생 유무에 상관없이 항상 실행됩니다. 예외가 발생하든 발생하지 않든, `finally` 블록의 코드는 항상 실행됩니다. 이는 자원 정리 등 예외 발생 여부와 상관 없이 반드시 실행해야 하는 코드를 작성하는 데 유용합니다.**"
   ]
  },
  {
   "cell_type": "markdown",
   "metadata": {},
   "source": [
    "----"
   ]
  },
  {
   "cell_type": "markdown",
   "metadata": {},
   "source": [
    "<span style=\"font-size:80%\">[문제2]<br><br></span>\n",
    "```예외를 임의로 발생 시키는 명령어를 골라주세요```\n",
    "\n",
    "1. else\n",
    "2. raising\n",
    "3. except\n",
    "4. ZeroDivisionError\n",
    "5. raise"
   ]
  },
  {
   "cell_type": "markdown",
   "metadata": {},
   "source": [
    "<span style=\"color:red\">답변</span>"
   ]
  },
  {
   "cell_type": "markdown",
   "metadata": {},
   "source": [
    "<aside>\n",
    "🔑 정답 :  raise\n",
    "\n",
    "</aside>\n",
    "\n",
    "예외를 임의로 발생시키는 명령어는 `raise`입니다. 파이썬에서 `raise`는 특정 예외를 강제로 발생시키는 데 사용됩니다. 이를 통해 예외 처리 흐름을 제어하거나, 예외 상황을 테스트하는 등의 작업을 수행할 수 있습니다."
   ]
  },
  {
   "cell_type": "markdown",
   "metadata": {},
   "source": [
    "----"
   ]
  },
  {
   "cell_type": "markdown",
   "metadata": {},
   "source": [
    "<span style=\"font-size:80%\">[문제3]<br><br></span>\n",
    "```인덱스의 범위를 벗어났을 때 발생하는 에러에 대한 예외처리를 담당하는 코드를 골라주세요```\n",
    "\n",
    "1. TypeError\n",
    "2. IndexError\n",
    "3. ZeroDivisionError\n",
    "4. KeyError\n",
    "5. SyntaxError"
   ]
  },
  {
   "cell_type": "markdown",
   "metadata": {},
   "source": [
    "<span style=\"color:red\">답변</span>"
   ]
  },
  {
   "cell_type": "markdown",
   "metadata": {},
   "source": [
    "<aside>\n",
    "🔑 정답 : IndexError\n",
    "\n",
    "</aside>\n",
    "\n",
    "**인덱스의 범위를 벗어났을 때 발생하는 에러는 `IndexError`입니다.**\n",
    "\n",
    "파이썬에서 리스트나 튜플 등의 시퀀스 타입에서 인덱스 범위를 벗어나 접근하려고 할 때 이 에러가 발생합니다."
   ]
  },
  {
   "cell_type": "markdown",
   "metadata": {},
   "source": [
    "----"
   ]
  }
 ],
 "metadata": {
  "language_info": {
   "name": "python"
  }
 },
 "nbformat": 4,
 "nbformat_minor": 2
}
