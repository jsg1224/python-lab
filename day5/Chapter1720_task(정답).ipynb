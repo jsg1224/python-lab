{
 "cells": [
  {
   "cell_type": "markdown",
   "metadata": {
    "id": "aLkxKxnFLowa"
   },
   "source": [
    "안녕하세요. 수강생 여러분~! Chapter17 ~ 20 수업은 잘 들으셨나요?\n",
    "\n",
    "Chapter17 ~ 20의 수업 내용을 바탕으로 아래 문제를 풀어주시면 됩니다.\n",
    "\n",
    "\n",
    "<br>\n",
    "\n",
    "\n",
    "[**답변 입력 방법**]\n",
    "\n",
    "문제 아래에 있는 코드 입력창에 정답코드를 작성하신 후  __▷ 버튼을 클릭해 코드를 실행__ 해보세요<br>"
   ]
  },
  {
   "cell_type": "markdown",
   "metadata": {},
   "source": [
    "---"
   ]
  },
  {
   "cell_type": "markdown",
   "metadata": {
    "id": "pYJ1dSggLwcG"
   },
   "source": [
    "__[문제1]__\n",
    "\n",
    "print_even 리스트 내에 있는 값 중 짝수만 화면에 출력되도록 print_score 함수를 생성 후 결과값을 출력해주세요\n",
    "\n",
    "print_even ([1, 3, 2, 10, 12, 11, 15])"
   ]
  },
  {
   "cell_type": "markdown",
   "metadata": {},
   "source": [
    "`print_score`**이라는 함수를 정의하고 있습니다. 이 함수는 하나의 매개변수, 즉 숫자 리스트를 입력받습니다. 여기서는** `print_even` **리스트가 사용됩니다.** \n",
    "\n",
    "**함수 내부에서는 `for` 문을 사용하여 리스트의 각 요소를 순회하며, `if` 문을 사용하여 각 숫자가 짝수인지 판별합니다. 숫자를 2로 나눈 나머지가 0이면 그 숫자는 짝수이므로, 해당 숫자를 화면에 출력합니다.**\n",
    "\n",
    "**마지막 줄에서는** `print_score` **함수를 호출하며, 이때 인자로 주어진 리스트 `[1, 3, 2, 10, 12, 11, 15]`에 대해 함수가 실행됩니다. 이때, 리스트 내의 짝수인 2, 10, 12만 화면에 출력됩니다.**"
   ]
  },
  {
   "cell_type": "markdown",
   "metadata": {},
   "source": [
    "---"
   ]
  },
  {
   "cell_type": "markdown",
   "metadata": {
    "id": "ZkGserEsQS0L"
   },
   "source": [
    "__[문제2]__\n",
    "\n",
    "비어있는 오즈 (oz) 클래스를 \"정의\" 해보세요."
   ]
  },
  {
   "cell_type": "markdown",
   "metadata": {},
   "source": [
    "<aside>\n",
    "🔑 정답 :\n",
    "\n",
    "```python\n",
    "class oz:\n",
    "    pass\n",
    "```\n",
    "\n",
    "**여기서 `class` 키워드는 클래스를 정의하기 위해 사용되며, oz는 클래스의 이름입니다. `pass` 키워드는 아무것도 하지 않는다는 것을 의미하는 파이썬 문법으로, 이 경우 oz 클래스가 아무런 속성이나 메서드도 가지지 않음을 나타냅니다.**\n",
    "\n",
    "**이렇게 정의된 oz 클래스는 추가적인 속성이나 메서드 없이 인스턴스화할 수 있습니다. 예를 들어, `my_oz = oz()`와 같이 클래스 인스턴스를 생성할 수 있습니다.**\n",
    "\n",
    "</aside>"
   ]
  },
  {
   "cell_type": "markdown",
   "metadata": {},
   "source": [
    "---"
   ]
  },
  {
   "cell_type": "markdown",
   "metadata": {
    "id": "Ofy86rZfL1Mg"
   },
   "source": [
    "__[문제3]__\n",
    "\n",
    "오즈(oz) 클래스의 인스턴스를 \"생성\" 하고 이를 coding 변수로 할당해보세요."
   ]
  },
  {
   "cell_type": "markdown",
   "metadata": {},
   "source": [
    "<aside>\n",
    "🔑 정답 :\n",
    "\n",
    "```python\n",
    "class oz:\n",
    "    pass\n",
    "\n",
    "coding = oz()\n",
    "```\n",
    "\n",
    "**먼저, oz클래스를 생성하는 파이썬 코드를 작성해야 합니다.** \n",
    "\n",
    "**그런 다음, 이 클래스의 인스턴스를 생성하고 `coding`이라는 변수에 할당합니다.**\n",
    "\n",
    "**위의 코드에서 `class oz:`는 oz라는 클래스를 정의합니다. `pass`는 이 클래스가 특별한 속성이나 메소드를 가지지 않는다는 것을 나타냅니다. 그리고 `coding = oz()`는 oz 클래스의 인스턴스를 생성하고 이를 `coding`이라는 변수에 할당합니다.**\n",
    "\n",
    "</aside>"
   ]
  },
  {
   "cell_type": "markdown",
   "metadata": {},
   "source": [
    "---"
   ]
  },
  {
   "cell_type": "markdown",
   "metadata": {
    "id": "5T6EMx8EL26b"
   },
   "source": [
    "[문제4]\n",
    "\n",
    "오즈(oz) 클래스에 \"클래스 정복\"을 출력하는 기본 생성자를 추가해주세요"
   ]
  },
  {
   "cell_type": "markdown",
   "metadata": {},
   "source": [
    "<aside>\n",
    "🔑 정답 :\n",
    "\n",
    "**파이썬에서 기본 생성자를 추가하려면 `__init__` 메소드를 사용합니다. 이 메소드는 클래스의 인스턴스가 생성될 때 자동으로 호출됩니다.**\n",
    "\n",
    "**\"클래스 정복\"을 출력하는 기본 생성자를 가진 `Oz` 클래스는 다음과 같이 정의할 수 있습니다.**\n",
    "\n",
    "```python\n",
    "class oz:\n",
    "    def __init__(self):\n",
    "        print(\"클래스 정복\")\n",
    "\n",
    "coding = oz()  # \"클래스 정복\" 출력\n",
    "```\n",
    "\n",
    "</aside>"
   ]
  },
  {
   "cell_type": "markdown",
   "metadata": {},
   "source": [
    "---"
   ]
  },
  {
   "cell_type": "markdown",
   "metadata": {
    "id": "htuycQWSL4l-"
   },
   "source": [
    "__[문제5]__\n",
    "\n",
    "오즈 (oz) 클래스에 (이름, 나이, 코딩레벨)을 받는 생성자를 추가해주세요\n",
    "\n",
    "coding = oz(\"김코\", 30, \"A\")\n"
   ]
  },
  {
   "cell_type": "markdown",
   "metadata": {},
   "source": [
    "<aside>\n",
    "🔑 정답 :\n",
    "\n",
    "```python\n",
    "class oz:\n",
    "    def __init__(self, name, age, coding_level):\n",
    "        self.name = name\n",
    "        self.age = age\n",
    "        self.coding_level = coding_level\n",
    "\n",
    "coding = oz(\"김코\", 30, \"A\")\n",
    "```\n",
    "\n",
    "**위의 코드는 이름이 \"김코\", 나이가 30, 코딩 레벨이 \"A\"인 oz 클래스의 인스턴스를 생성하고, 이 인스턴스를 `coding` 변수에 할당합니다.**\n",
    "\n",
    "</aside>"
   ]
  },
  {
   "cell_type": "markdown",
   "metadata": {},
   "source": [
    "---"
   ]
  },
  {
   "cell_type": "markdown",
   "metadata": {
    "id": "ZGDLHI5xL6Bd"
   },
   "source": [
    "__[문제6]__\n",
    "\n",
    "5번 문제에서 생성한 인스턴스의 이름, 나이, 성별을 출력해주세요.\n",
    "\n",
    "\n",
    "\n",
    "출력 결과  ) <br>\n",
    "이름 : 김코  \n",
    "나이 : 30  \n",
    "코딩레벨 : A  \n",
    "\n",
    "__Tips__\n",
    "\n",
    "\n",
    "- 인스턴스 변수에 접근하여 값을 출력하면 됩니다  : )"
   ]
  },
  {
   "cell_type": "markdown",
   "metadata": {},
   "source": [
    "<aside>\n",
    "🔑 정답 :\n",
    "\n",
    "```python\n",
    "print(\"이름 :\", coding.name)\n",
    "print(\"나이 :\", coding.age)\n",
    "print(\"코딩레벨 :\", coding.coding_level)\n",
    "```\n",
    "\n",
    "`coding` 인스턴스의 `name`, `age`, `coding_level` 속성에 접근하여 각각의 값을 출력합니다.\n",
    "\n",
    "</aside>"
   ]
  },
  {
   "cell_type": "markdown",
   "metadata": {},
   "source": [
    "---"
   ]
  },
  {
   "cell_type": "markdown",
   "metadata": {
    "id": "RmtPk-A1L8z4"
   },
   "source": [
    "__[문제7]__\n",
    "\n",
    "오즈 (oz) 클래스에서 이름, 나이, 성별을 출력하는 who() 메소드를 추가하고 who()메소드를 이용해 아래 출력 결과를 만들어주세요\n",
    "\n",
    "\n",
    "출력 결과 ) <br>\n",
    "이름: 김코, 나이: 30, 코딩레벨: A"
   ]
  },
  {
   "cell_type": "markdown",
   "metadata": {},
   "source": [
    "정답 : \n",
    "\n",
    "```python\n",
    "class oz:\n",
    "    def __init__(self, name, age, coding_level):\n",
    "        self.name = name\n",
    "        self.age = age\n",
    "        self.coding_level = coding_level\n",
    "\n",
    "    def who(self):\n",
    "        return f\"이름: {self.name}, 나이: {self.age}, 코딩레벨: {self.coding_level}\"\n",
    "\n",
    "coding = oz(\"김코\", 30, \"A\")\n",
    "print(coding.who())  # \"이름: 김코, 나이: 30, 코딩레벨: A\"\n",
    "```\n",
    "\n",
    "**위 코드는 oz 클래스에 `who()` 메소드를 추가하였습니다. `who()` 메소드는 인스턴스의 `name`, `age`, `coding_level` 속성을 문자열 형태로 반환합니다.**\n",
    "\n",
    "**이제 oz 클래스의 인스턴스를 생성하고 `who()` 메소드를 호출하면 다음과 같이 출력됩니다:**"
   ]
  }
 ],
 "metadata": {
  "colab": {
   "authorship_tag": "ABX9TyMfxSNOybrh/E7+DQqfYMY3",
   "provenance": []
  },
  "kernelspec": {
   "display_name": "Python 3",
   "name": "python3"
  },
  "language_info": {
   "codemirror_mode": {
    "name": "ipython",
    "version": 3
   },
   "file_extension": ".py",
   "mimetype": "text/x-python",
   "name": "python",
   "nbconvert_exporter": "python",
   "pygments_lexer": "ipython3",
   "version": "3.11.7"
  }
 },
 "nbformat": 4,
 "nbformat_minor": 0
}
